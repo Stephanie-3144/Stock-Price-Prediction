{
 "cells": [
  {
   "cell_type": "code",
   "execution_count": 113,
   "id": "95d9b13e-0755-478b-a4cc-f8e35a120142",
   "metadata": {},
   "outputs": [],
   "source": [
    "import requests\n",
    "import json\n",
    "import pandas as pd\n",
    "from datetime import datetime\n",
    "import praw"
   ]
  },
  {
   "cell_type": "code",
   "execution_count": 114,
   "id": "c135e6f0-1f67-4a85-af97-69499fe45afd",
   "metadata": {},
   "outputs": [],
   "source": [
    "#Get request from Reddit API\n",
    "reddit = praw.Reddit(\n",
    "    client_id='kBVNj6lUbDQh5-6IcRcPIw',       \n",
    "    client_secret='WMiTuWHZZ-bYDEPaRVNlXHKOWHwvSA', \n",
    "    user_agent='jingyuch',\n",
    "    redirect_uri=\"http://localhost:8080\"\n",
    ")\n"
   ]
  },
  {
   "cell_type": "code",
   "execution_count": 139,
   "id": "597a6ef3-5576-463b-9079-44ba774a75df",
   "metadata": {},
   "outputs": [],
   "source": [
    "#Set empty lists to store data and set index to search by API\n",
    "data = []\n",
    "subreddit_name = 'WallStreetBets'\n",
    "keyword = 'GameStop'\n",
    "subreddit = reddit.subreddit(subreddit_name)"
   ]
  },
  {
   "cell_type": "code",
   "execution_count": 116,
   "id": "66e0b613-3938-44a0-93ca-4bcee8270e5c",
   "metadata": {},
   "outputs": [],
   "source": [
    "# Get data ranging from 2021-1-1 to 2021-4-1\n",
    "start_date = datetime(2021, 1, 1)\n",
    "end_date = datetime(2021, 4, 1)\n",
    "# loop to get full data due to restrictions and store data into the list\n",
    "for i in range(1,5):\n",
    "    end_date = datetime(2021, i, 1)\n",
    "    for submission in subreddit.search(f'{keyword}', sort='month',time_filter='all', limit=None):\n",
    "        submission_date = datetime.fromtimestamp(submission.created_utc)\n",
    "        if start_date <= submission_date < end_date:\n",
    "            data.append({'time':  submission_date, 'review': submission.title})"
   ]
  },
  {
   "cell_type": "code",
   "execution_count": 117,
   "id": "d0911850-f827-49fa-8d1e-8213f456b9c3",
   "metadata": {},
   "outputs": [],
   "source": [
    "# Get data ranging from 2020-1-1 to 2020-12-29\n",
    "start_date = datetime(2020, 1, 1)\n",
    "end_date = datetime(2020, 12, 29)\n",
    "# loop to get full data due to restrictions and store data into the list\n",
    "for i in range(1,13):\n",
    "    end_date = datetime(2020, i, 29)\n",
    "    for submission in subreddit.search(f'{keyword}', sort='month',time_filter='all', limit=None):\n",
    "        submission_date = datetime.fromtimestamp(submission.created_utc)\n",
    "        if start_date <= submission_date < end_date:\n",
    "            data.append({'time':  submission_date, 'review': submission.title})"
   ]
  },
  {
   "cell_type": "code",
   "execution_count": 118,
   "id": "94f8744e-290e-4d6a-b4b2-d780391b21b8",
   "metadata": {},
   "outputs": [],
   "source": [
    "#Convert data into dataframe\n",
    "gamestop = pd.DataFrame(data)"
   ]
  },
  {
   "cell_type": "code",
   "execution_count": 144,
   "id": "dfd0392a-fc0b-4303-8f89-ca3c6dac7e32",
   "metadata": {},
   "outputs": [],
   "source": [
    "#Save the data into csv file\n",
    "gamestop.to_csv('gamestop_WallStreetBets.csv', index=False)"
   ]
  }
 ],
 "metadata": {
  "kernelspec": {
   "display_name": "Python 3 (ipykernel)",
   "language": "python",
   "name": "python3"
  },
  "language_info": {
   "codemirror_mode": {
    "name": "ipython",
    "version": 3
   },
   "file_extension": ".py",
   "mimetype": "text/x-python",
   "name": "python",
   "nbconvert_exporter": "python",
   "pygments_lexer": "ipython3",
   "version": "3.11.2"
  }
 },
 "nbformat": 4,
 "nbformat_minor": 5
}
