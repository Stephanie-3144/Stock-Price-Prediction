{
 "cells": [
  {
   "cell_type": "code",
   "execution_count": 1,
   "id": "fe98fa63-27b2-42ba-8bf5-1e2248774a8f",
   "metadata": {},
   "outputs": [
    {
     "name": "stdout",
     "output_type": "stream",
     "text": [
      "WARNING:tensorflow:From C:\\Users\\10788\\AppData\\Local\\Programs\\Python\\Python311\\Lib\\site-packages\\keras\\src\\losses.py:2976: The name tf.losses.sparse_softmax_cross_entropy is deprecated. Please use tf.compat.v1.losses.sparse_softmax_cross_entropy instead.\n",
      "\n"
     ]
    }
   ],
   "source": [
    "import seaborn as sns\n",
    "import matplotlib.pyplot as plt\n",
    "import yfinance as yf\n",
    "import matplotlib.dates as mdates \n",
    "import numpy as np\n",
    "import pandas as pd\n",
    "import nltk\n",
    "from sklearn.preprocessing import MinMaxScaler\n",
    "from sklearn.feature_extraction.text import CountVectorizer\n",
    "from sklearn.decomposition import LatentDirichletAllocation\n",
    "from keras.models import Sequential\n",
    "from keras.layers import LSTM, Dense\n",
    "from pandas.tseries.holiday import USFederalHolidayCalendar\n",
    "from pandas.tseries.offsets import CustomBusinessDay\n",
    "from datetime import datetime, timedelta\n",
    "%matplotlib inline"
   ]
  },
  {
   "cell_type": "markdown",
   "id": "be96307d-9d6e-4db6-9459-d1f7b60e080e",
   "metadata": {
    "jp-MarkdownHeadingCollapsed": true
   },
   "source": [
    "# </h1><font size=\"6\">\n",
    "**Section 1. Sentiment Analysis on Reviews**  \n",
    "**(See Detailed Method in Section 3)**\n"
   ]
  },
  {
   "cell_type": "markdown",
   "id": "d0ce0db3-3d08-48b1-bbc6-fcb84281d3a9",
   "metadata": {},
   "source": [
    "Note: In this part, since I already have the sentiment compound score of the title. So I grabbed a sample dataset containing 100 titles and analyzed their sentiments using textblob. Then I manually compare the two sentiment scores to see which one better fits the true sentiment.  \n",
    "Plus, detailed sentiment analysis including volume estimate, topic modeling, and VADER process are in section 3."
   ]
  },
  {
   "cell_type": "code",
   "execution_count": 2,
   "id": "7add4350-2bcd-4ae6-9630-c02cf3798fa2",
   "metadata": {},
   "outputs": [
    {
     "name": "stderr",
     "output_type": "stream",
     "text": [
      "C:\\Users\\10788\\AppData\\Local\\Temp\\ipykernel_4252\\3528037558.py:2: DtypeWarning: Columns (8) have mixed types. Specify dtype option on import or set low_memory=False.\n",
      "  rGME = pd.read_csv('rGME_dataset_features.csv')\n"
     ]
    }
   ],
   "source": [
    "#Read the file\n",
    "rGME = pd.read_csv('rGME_dataset_features.csv')"
   ]
  },
  {
   "cell_type": "code",
   "execution_count": 3,
   "id": "850fd9ff-2a44-4f7b-bc75-08444f03268a",
   "metadata": {},
   "outputs": [
    {
     "data": {
      "text/html": [
       "<div>\n",
       "<style scoped>\n",
       "    .dataframe tbody tr th:only-of-type {\n",
       "        vertical-align: middle;\n",
       "    }\n",
       "\n",
       "    .dataframe tbody tr th {\n",
       "        vertical-align: top;\n",
       "    }\n",
       "\n",
       "    .dataframe thead th {\n",
       "        text-align: right;\n",
       "    }\n",
       "</style>\n",
       "<table border=\"1\" class=\"dataframe\">\n",
       "  <thead>\n",
       "    <tr style=\"text-align: right;\">\n",
       "      <th></th>\n",
       "      <th>Unnamed: 0</th>\n",
       "      <th>id</th>\n",
       "      <th>title</th>\n",
       "      <th>url</th>\n",
       "      <th>score</th>\n",
       "      <th>author</th>\n",
       "      <th>num_comments</th>\n",
       "      <th>date</th>\n",
       "      <th>flair</th>\n",
       "      <th>compound</th>\n",
       "      <th>...</th>\n",
       "      <th>_poss</th>\n",
       "      <th>_intj</th>\n",
       "      <th>_appos</th>\n",
       "      <th>_npadvmod</th>\n",
       "      <th>_predet</th>\n",
       "      <th>_case</th>\n",
       "      <th>_expl</th>\n",
       "      <th>_oprd</th>\n",
       "      <th>_dative</th>\n",
       "      <th>_nmod</th>\n",
       "    </tr>\n",
       "  </thead>\n",
       "  <tbody>\n",
       "    <tr>\n",
       "      <th>0</th>\n",
       "      <td>0</td>\n",
       "      <td>kqfajb</td>\n",
       "      <td>You NEED to see this about GME 🚀🚀🚀🚀🚀🚀</td>\n",
       "      <td>https://www.reddit.com/r/GME/comments/kqfajb/y...</td>\n",
       "      <td>1.0</td>\n",
       "      <td>TitsDownOnly</td>\n",
       "      <td>9.0</td>\n",
       "      <td>2021-01-04</td>\n",
       "      <td>NaN</td>\n",
       "      <td>0.9872</td>\n",
       "      <td>...</td>\n",
       "      <td>0</td>\n",
       "      <td>0</td>\n",
       "      <td>6</td>\n",
       "      <td>0</td>\n",
       "      <td>0</td>\n",
       "      <td>0</td>\n",
       "      <td>0</td>\n",
       "      <td>0</td>\n",
       "      <td>0</td>\n",
       "      <td>0</td>\n",
       "    </tr>\n",
       "    <tr>\n",
       "      <th>1</th>\n",
       "      <td>1</td>\n",
       "      <td>kqjh2t</td>\n",
       "      <td>Short Squeeze Incoming 🚀🚀🚀🚀🚀🚀🚀</td>\n",
       "      <td>/r/wallstreetbets/comments/kqcwdo/gamestops_gr...</td>\n",
       "      <td>1.0</td>\n",
       "      <td>zoomermoney</td>\n",
       "      <td>1.0</td>\n",
       "      <td>2021-01-04</td>\n",
       "      <td>NaN</td>\n",
       "      <td>0.9906</td>\n",
       "      <td>...</td>\n",
       "      <td>0</td>\n",
       "      <td>0</td>\n",
       "      <td>3</td>\n",
       "      <td>0</td>\n",
       "      <td>0</td>\n",
       "      <td>0</td>\n",
       "      <td>0</td>\n",
       "      <td>0</td>\n",
       "      <td>0</td>\n",
       "      <td>0</td>\n",
       "    </tr>\n",
       "    <tr>\n",
       "      <th>2</th>\n",
       "      <td>2</td>\n",
       "      <td>kqvp7l</td>\n",
       "      <td>THIS CONVINCED ME TO ALL IN 💰GME (EXTREME PUMP...</td>\n",
       "      <td>https://www.reddit.com/r/GME/comments/kqvp7l/t...</td>\n",
       "      <td>1.0</td>\n",
       "      <td>TitsDownOnly</td>\n",
       "      <td>6.0</td>\n",
       "      <td>2021-01-05</td>\n",
       "      <td>NaN</td>\n",
       "      <td>0.5319</td>\n",
       "      <td>...</td>\n",
       "      <td>0</td>\n",
       "      <td>0</td>\n",
       "      <td>0</td>\n",
       "      <td>0</td>\n",
       "      <td>0</td>\n",
       "      <td>0</td>\n",
       "      <td>0</td>\n",
       "      <td>0</td>\n",
       "      <td>0</td>\n",
       "      <td>0</td>\n",
       "    </tr>\n",
       "    <tr>\n",
       "      <th>3</th>\n",
       "      <td>3</td>\n",
       "      <td>krcwch</td>\n",
       "      <td>You already know what we must do brothers and ...</td>\n",
       "      <td>/r/wallstreetbets/comments/kr98ym/gme_gang_we_...</td>\n",
       "      <td>1.0</td>\n",
       "      <td>dontforgettolive</td>\n",
       "      <td>4.0</td>\n",
       "      <td>2021-01-05</td>\n",
       "      <td>NaN</td>\n",
       "      <td>-0.2960</td>\n",
       "      <td>...</td>\n",
       "      <td>1</td>\n",
       "      <td>0</td>\n",
       "      <td>0</td>\n",
       "      <td>0</td>\n",
       "      <td>0</td>\n",
       "      <td>0</td>\n",
       "      <td>0</td>\n",
       "      <td>0</td>\n",
       "      <td>0</td>\n",
       "      <td>0</td>\n",
       "    </tr>\n",
       "    <tr>\n",
       "      <th>4</th>\n",
       "      <td>4</td>\n",
       "      <td>krnthg</td>\n",
       "      <td>ICR conference (11th Jan)</td>\n",
       "      <td>https://www.reddit.com/r/GME/comments/krnthg/i...</td>\n",
       "      <td>1.0</td>\n",
       "      <td>nicky94</td>\n",
       "      <td>10.0</td>\n",
       "      <td>2021-01-06</td>\n",
       "      <td>NaN</td>\n",
       "      <td>0.0000</td>\n",
       "      <td>...</td>\n",
       "      <td>0</td>\n",
       "      <td>0</td>\n",
       "      <td>0</td>\n",
       "      <td>1</td>\n",
       "      <td>0</td>\n",
       "      <td>0</td>\n",
       "      <td>0</td>\n",
       "      <td>0</td>\n",
       "      <td>0</td>\n",
       "      <td>0</td>\n",
       "    </tr>\n",
       "  </tbody>\n",
       "</table>\n",
       "<p>5 rows × 74 columns</p>\n",
       "</div>"
      ],
      "text/plain": [
       "   Unnamed: 0      id                                              title  \\\n",
       "0           0  kqfajb              You NEED to see this about GME 🚀🚀🚀🚀🚀🚀   \n",
       "1           1  kqjh2t                     Short Squeeze Incoming 🚀🚀🚀🚀🚀🚀🚀   \n",
       "2           2  kqvp7l  THIS CONVINCED ME TO ALL IN 💰GME (EXTREME PUMP...   \n",
       "3           3  krcwch  You already know what we must do brothers and ...   \n",
       "4           4  krnthg                          ICR conference (11th Jan)   \n",
       "\n",
       "                                                 url  score            author  \\\n",
       "0  https://www.reddit.com/r/GME/comments/kqfajb/y...    1.0      TitsDownOnly   \n",
       "1  /r/wallstreetbets/comments/kqcwdo/gamestops_gr...    1.0       zoomermoney   \n",
       "2  https://www.reddit.com/r/GME/comments/kqvp7l/t...    1.0      TitsDownOnly   \n",
       "3  /r/wallstreetbets/comments/kr98ym/gme_gang_we_...    1.0  dontforgettolive   \n",
       "4  https://www.reddit.com/r/GME/comments/krnthg/i...    1.0           nicky94   \n",
       "\n",
       "   num_comments        date flair  compound  ...  _poss  _intj  _appos  \\\n",
       "0           9.0  2021-01-04   NaN    0.9872  ...      0      0       6   \n",
       "1           1.0  2021-01-04   NaN    0.9906  ...      0      0       3   \n",
       "2           6.0  2021-01-05   NaN    0.5319  ...      0      0       0   \n",
       "3           4.0  2021-01-05   NaN   -0.2960  ...      1      0       0   \n",
       "4          10.0  2021-01-06   NaN    0.0000  ...      0      0       0   \n",
       "\n",
       "  _npadvmod _predet  _case  _expl  _oprd  _dative _nmod  \n",
       "0         0       0      0      0      0        0     0  \n",
       "1         0       0      0      0      0        0     0  \n",
       "2         0       0      0      0      0        0     0  \n",
       "3         0       0      0      0      0        0     0  \n",
       "4         1       0      0      0      0        0     0  \n",
       "\n",
       "[5 rows x 74 columns]"
      ]
     },
     "execution_count": 3,
     "metadata": {},
     "output_type": "execute_result"
    }
   ],
   "source": [
    "rGME.head()"
   ]
  },
  {
   "cell_type": "code",
   "execution_count": 4,
   "id": "e0ad4932-4021-4dae-a7e0-a6bdff40abca",
   "metadata": {},
   "outputs": [
    {
     "name": "stderr",
     "output_type": "stream",
     "text": [
      "C:\\Users\\10788\\AppData\\Local\\Temp\\ipykernel_4252\\1482396557.py:4: SettingWithCopyWarning: \n",
      "A value is trying to be set on a copy of a slice from a DataFrame.\n",
      "Try using .loc[row_indexer,col_indexer] = value instead\n",
      "\n",
      "See the caveats in the documentation: https://pandas.pydata.org/pandas-docs/stable/user_guide/indexing.html#returning-a-view-versus-a-copy\n",
      "  rgme['date'] = pd.to_datetime(rgme['date'])\n"
     ]
    }
   ],
   "source": [
    "# Get columns we need\n",
    "rgme = rGME[['date','title','compound']]\n",
    "#change time format\n",
    "rgme['date'] = pd.to_datetime(rgme['date'])"
   ]
  },
  {
   "cell_type": "code",
   "execution_count": 5,
   "id": "02f5a119-5643-49c4-bafe-6ca89bb24346",
   "metadata": {},
   "outputs": [],
   "source": [
    "# Get rows in the range of January_May and June_August\n",
    "rgme1_5 = rgme[(rgme['date'].dt.month >= 1) & (rgme['date'].dt.month <= 5)]\n",
    "rgme6_8 = rgme[(rgme['date'].dt.month >= 6) & (rgme['date'].dt.month <= 8)]\n",
    "#get sample data to make comparision\n",
    "rgme1_5_sample = rgme1_5.iloc[:102]"
   ]
  },
  {
   "cell_type": "code",
   "execution_count": 6,
   "id": "15babec1-a1a4-4380-802f-9148fe016560",
   "metadata": {},
   "outputs": [],
   "source": [
    "from textblob import TextBlob"
   ]
  },
  {
   "cell_type": "code",
   "execution_count": 7,
   "id": "2b5ab9f7-db38-4d77-8a83-1b5473944847",
   "metadata": {},
   "outputs": [],
   "source": [
    "# Creat a def funtion to do sentiment analysis \n",
    "def analyze_sentiment(title):\n",
    "    analysis = TextBlob(title)\n",
    "    return analysis.sentiment.polarity "
   ]
  },
  {
   "cell_type": "code",
   "execution_count": 8,
   "id": "3d62ea19-9343-4912-8327-828ebf0d8cf8",
   "metadata": {},
   "outputs": [
    {
     "name": "stderr",
     "output_type": "stream",
     "text": [
      "C:\\Users\\10788\\AppData\\Local\\Temp\\ipykernel_4252\\2049517600.py:2: SettingWithCopyWarning: \n",
      "A value is trying to be set on a copy of a slice from a DataFrame.\n",
      "Try using .loc[row_indexer,col_indexer] = value instead\n",
      "\n",
      "See the caveats in the documentation: https://pandas.pydata.org/pandas-docs/stable/user_guide/indexing.html#returning-a-view-versus-a-copy\n",
      "  rgme1_5_sample['sentiment'] = rgme1_5_sample['title'].apply(analyze_sentiment)\n"
     ]
    }
   ],
   "source": [
    "# Apply the sentiment function on the sample set\n",
    "rgme1_5_sample['sentiment'] = rgme1_5_sample['title'].apply(analyze_sentiment)"
   ]
  },
  {
   "cell_type": "code",
   "execution_count": 9,
   "id": "7350f503-ff38-4bef-ab75-68c61319e70d",
   "metadata": {},
   "outputs": [],
   "source": [
    "# pd.set_option('display.max_rows', None)"
   ]
  },
  {
   "cell_type": "code",
   "execution_count": 10,
   "id": "0956fcb8-6455-4b4c-995b-2a19b9b3d3e1",
   "metadata": {},
   "outputs": [
    {
     "data": {
      "text/html": [
       "<div>\n",
       "<style scoped>\n",
       "    .dataframe tbody tr th:only-of-type {\n",
       "        vertical-align: middle;\n",
       "    }\n",
       "\n",
       "    .dataframe tbody tr th {\n",
       "        vertical-align: top;\n",
       "    }\n",
       "\n",
       "    .dataframe thead th {\n",
       "        text-align: right;\n",
       "    }\n",
       "</style>\n",
       "<table border=\"1\" class=\"dataframe\">\n",
       "  <thead>\n",
       "    <tr style=\"text-align: right;\">\n",
       "      <th></th>\n",
       "      <th>date</th>\n",
       "      <th>title</th>\n",
       "      <th>compound</th>\n",
       "      <th>sentiment</th>\n",
       "    </tr>\n",
       "  </thead>\n",
       "  <tbody>\n",
       "    <tr>\n",
       "      <th>0</th>\n",
       "      <td>2021-01-04</td>\n",
       "      <td>You NEED to see this about GME 🚀🚀🚀🚀🚀🚀</td>\n",
       "      <td>0.9872</td>\n",
       "      <td>0.000000</td>\n",
       "    </tr>\n",
       "    <tr>\n",
       "      <th>1</th>\n",
       "      <td>2021-01-04</td>\n",
       "      <td>Short Squeeze Incoming 🚀🚀🚀🚀🚀🚀🚀</td>\n",
       "      <td>0.9906</td>\n",
       "      <td>0.000000</td>\n",
       "    </tr>\n",
       "    <tr>\n",
       "      <th>2</th>\n",
       "      <td>2021-01-05</td>\n",
       "      <td>THIS CONVINCED ME TO ALL IN 💰GME (EXTREME PUMP...</td>\n",
       "      <td>0.5319</td>\n",
       "      <td>-0.125000</td>\n",
       "    </tr>\n",
       "    <tr>\n",
       "      <th>3</th>\n",
       "      <td>2021-01-05</td>\n",
       "      <td>You already know what we must do brothers and ...</td>\n",
       "      <td>-0.2960</td>\n",
       "      <td>-0.300000</td>\n",
       "    </tr>\n",
       "    <tr>\n",
       "      <th>4</th>\n",
       "      <td>2021-01-06</td>\n",
       "      <td>ICR conference (11th Jan)</td>\n",
       "      <td>0.0000</td>\n",
       "      <td>0.000000</td>\n",
       "    </tr>\n",
       "    <tr>\n",
       "      <th>...</th>\n",
       "      <td>...</td>\n",
       "      <td>...</td>\n",
       "      <td>...</td>\n",
       "      <td>...</td>\n",
       "    </tr>\n",
       "    <tr>\n",
       "      <th>97</th>\n",
       "      <td>2021-01-21</td>\n",
       "      <td>WHERE ARE THE FUCKING REINFORCEMENTS</td>\n",
       "      <td>0.0000</td>\n",
       "      <td>-0.600000</td>\n",
       "    </tr>\n",
       "    <tr>\n",
       "      <th>98</th>\n",
       "      <td>2021-01-21</td>\n",
       "      <td>Picked up more!</td>\n",
       "      <td>0.0000</td>\n",
       "      <td>0.625000</td>\n",
       "    </tr>\n",
       "    <tr>\n",
       "      <th>99</th>\n",
       "      <td>2021-01-21</td>\n",
       "      <td>Major News - Weekly Thread</td>\n",
       "      <td>0.0000</td>\n",
       "      <td>0.062500</td>\n",
       "    </tr>\n",
       "    <tr>\n",
       "      <th>100</th>\n",
       "      <td>2021-01-21</td>\n",
       "      <td>Can’t wait to repost this years down the line....</td>\n",
       "      <td>-0.2023</td>\n",
       "      <td>0.072222</td>\n",
       "    </tr>\n",
       "    <tr>\n",
       "      <th>101</th>\n",
       "      <td>2021-01-21</td>\n",
       "      <td>$CLVS is the next GME on steroids. Low float w...</td>\n",
       "      <td>0.2263</td>\n",
       "      <td>0.000000</td>\n",
       "    </tr>\n",
       "  </tbody>\n",
       "</table>\n",
       "<p>102 rows × 4 columns</p>\n",
       "</div>"
      ],
      "text/plain": [
       "          date                                              title  compound  \\\n",
       "0   2021-01-04              You NEED to see this about GME 🚀🚀🚀🚀🚀🚀    0.9872   \n",
       "1   2021-01-04                     Short Squeeze Incoming 🚀🚀🚀🚀🚀🚀🚀    0.9906   \n",
       "2   2021-01-05  THIS CONVINCED ME TO ALL IN 💰GME (EXTREME PUMP...    0.5319   \n",
       "3   2021-01-05  You already know what we must do brothers and ...   -0.2960   \n",
       "4   2021-01-06                          ICR conference (11th Jan)    0.0000   \n",
       "..         ...                                                ...       ...   \n",
       "97  2021-01-21               WHERE ARE THE FUCKING REINFORCEMENTS    0.0000   \n",
       "98  2021-01-21                                    Picked up more!    0.0000   \n",
       "99  2021-01-21                         Major News - Weekly Thread    0.0000   \n",
       "100 2021-01-21  Can’t wait to repost this years down the line....   -0.2023   \n",
       "101 2021-01-21  $CLVS is the next GME on steroids. Low float w...    0.2263   \n",
       "\n",
       "     sentiment  \n",
       "0     0.000000  \n",
       "1     0.000000  \n",
       "2    -0.125000  \n",
       "3    -0.300000  \n",
       "4     0.000000  \n",
       "..         ...  \n",
       "97   -0.600000  \n",
       "98    0.625000  \n",
       "99    0.062500  \n",
       "100   0.072222  \n",
       "101   0.000000  \n",
       "\n",
       "[102 rows x 4 columns]"
      ]
     },
     "execution_count": 10,
     "metadata": {},
     "output_type": "execute_result"
    }
   ],
   "source": [
    "rgme1_5_sample"
   ]
  },
  {
   "cell_type": "markdown",
   "id": "a1890b29-c3ff-48c5-828c-0432a89a9d44",
   "metadata": {},
   "source": [
    "After carefully comparing two scores, I find that the 'compound' column better score the sentiment so I decided to use compound score as sentiment score finally."
   ]
  },
  {
   "cell_type": "markdown",
   "id": "f5308c5a-de6d-45a3-bdd4-36f5bf28b8ec",
   "metadata": {
    "jp-MarkdownHeadingCollapsed": true
   },
   "source": [
    "# </h1><font size=\"6\">\n",
    "**Section 2.\n",
    "Time-Series Data Analysis**"
   ]
  },
  {
   "cell_type": "markdown",
   "id": "a7e90c1c-d9d6-4738-80c4-c019b96adfdd",
   "metadata": {},
   "source": [
    "## </h2><font size=\"4\">\n",
    "**2.1 Load Historical Time-Series Data and EDA**"
   ]
  },
  {
   "cell_type": "code",
   "execution_count": 11,
   "id": "d270bb56-7008-40f5-ba11-6c659caafdcc",
   "metadata": {},
   "outputs": [
    {
     "name": "stderr",
     "output_type": "stream",
     "text": [
      "C:\\Users\\10788\\AppData\\Local\\Programs\\Python\\Python311\\Lib\\site-packages\\yfinance\\utils.py:775: FutureWarning: The 'unit' keyword in TimedeltaIndex construction is deprecated and will be removed in a future version. Use pd.to_timedelta instead.\n",
      "  df.index += _pd.TimedeltaIndex(dst_error_hours, 'h')\n",
      "[*********************100%%**********************]  1 of 1 completed\n"
     ]
    },
    {
     "data": {
      "text/html": [
       "<div>\n",
       "<style scoped>\n",
       "    .dataframe tbody tr th:only-of-type {\n",
       "        vertical-align: middle;\n",
       "    }\n",
       "\n",
       "    .dataframe tbody tr th {\n",
       "        vertical-align: top;\n",
       "    }\n",
       "\n",
       "    .dataframe thead th {\n",
       "        text-align: right;\n",
       "    }\n",
       "</style>\n",
       "<table border=\"1\" class=\"dataframe\">\n",
       "  <thead>\n",
       "    <tr style=\"text-align: right;\">\n",
       "      <th></th>\n",
       "      <th>Open</th>\n",
       "      <th>High</th>\n",
       "      <th>Low</th>\n",
       "      <th>Close</th>\n",
       "      <th>Adj Close</th>\n",
       "      <th>Volume</th>\n",
       "    </tr>\n",
       "    <tr>\n",
       "      <th>Date</th>\n",
       "      <th></th>\n",
       "      <th></th>\n",
       "      <th></th>\n",
       "      <th></th>\n",
       "      <th></th>\n",
       "      <th></th>\n",
       "    </tr>\n",
       "  </thead>\n",
       "  <tbody>\n",
       "    <tr>\n",
       "      <th>2021-01-04</th>\n",
       "      <td>4.7500</td>\n",
       "      <td>4.7750</td>\n",
       "      <td>4.2875</td>\n",
       "      <td>4.3125</td>\n",
       "      <td>4.3125</td>\n",
       "      <td>40090000</td>\n",
       "    </tr>\n",
       "    <tr>\n",
       "      <th>2021-01-05</th>\n",
       "      <td>4.3375</td>\n",
       "      <td>4.5200</td>\n",
       "      <td>4.3075</td>\n",
       "      <td>4.3425</td>\n",
       "      <td>4.3425</td>\n",
       "      <td>19846000</td>\n",
       "    </tr>\n",
       "    <tr>\n",
       "      <th>2021-01-06</th>\n",
       "      <td>4.3350</td>\n",
       "      <td>4.7450</td>\n",
       "      <td>4.3325</td>\n",
       "      <td>4.5900</td>\n",
       "      <td>4.5900</td>\n",
       "      <td>24224800</td>\n",
       "    </tr>\n",
       "    <tr>\n",
       "      <th>2021-01-07</th>\n",
       "      <td>4.6175</td>\n",
       "      <td>4.8625</td>\n",
       "      <td>4.5050</td>\n",
       "      <td>4.5200</td>\n",
       "      <td>4.5200</td>\n",
       "      <td>24517200</td>\n",
       "    </tr>\n",
       "    <tr>\n",
       "      <th>2021-01-08</th>\n",
       "      <td>4.5450</td>\n",
       "      <td>4.5750</td>\n",
       "      <td>4.2700</td>\n",
       "      <td>4.4225</td>\n",
       "      <td>4.4225</td>\n",
       "      <td>25928000</td>\n",
       "    </tr>\n",
       "  </tbody>\n",
       "</table>\n",
       "</div>"
      ],
      "text/plain": [
       "              Open    High     Low   Close  Adj Close    Volume\n",
       "Date                                                           \n",
       "2021-01-04  4.7500  4.7750  4.2875  4.3125     4.3125  40090000\n",
       "2021-01-05  4.3375  4.5200  4.3075  4.3425     4.3425  19846000\n",
       "2021-01-06  4.3350  4.7450  4.3325  4.5900     4.5900  24224800\n",
       "2021-01-07  4.6175  4.8625  4.5050  4.5200     4.5200  24517200\n",
       "2021-01-08  4.5450  4.5750  4.2700  4.4225     4.4225  25928000"
      ]
     },
     "execution_count": 11,
     "metadata": {},
     "output_type": "execute_result"
    }
   ],
   "source": [
    "#Load the Gamestop's historical stock data\n",
    "ticker = 'GME'\n",
    "# Ranging from 2020-1-1 to 2021-04-1\n",
    "gme_data = yf.download(ticker, start='2021-01-01', end='2021-09-01')\n",
    "# detect the data\n",
    "gme_data.head()"
   ]
  },
  {
   "cell_type": "code",
   "execution_count": 12,
   "id": "f55fc972-b25e-463c-b7d9-5f37f31626ac",
   "metadata": {},
   "outputs": [
    {
     "data": {
      "image/png": "[encoded data removed]",
      "text/plain": [
       "<Figure size 1500x700 with 1 Axes>"
      ]
     },
     "metadata": {},
     "output_type": "display_data"
    }
   ],
   "source": [
    "# Plot the time-series data\n",
    "# Setting the plot size for better readability\n",
    "plt.figure(figsize=(15, 7))\n",
    "\n",
    "# Plotting the actual closing prices in the training period\n",
    "plt.plot(gme_data.index, gme_data['Close'], label='Actual Close', color='blue', marker='o')\n",
    "\n",
    "# Adding title and labels with font size adjustments\n",
    "plt.title('Actual Closing Prices in Data', fontsize=16)\n",
    "plt.xlabel('Date', fontsize=14)\n",
    "plt.ylabel('Closing Price', fontsize=20)\n",
    "\n",
    "#Set the date format\n",
    "plt.gca().xaxis.set_major_formatter(mdates.DateFormatter('%Y-%m-%d')) \n",
    "\n",
    "#Set the x-axis interval to be one month\n",
    "plt.gca().xaxis.set_major_locator(mdates.MonthLocator(interval=1)) \n",
    "\n",
    "# Rotating date labels for better visibility\n",
    "plt.xticks(rotation=45)\n",
    "\n",
    "# Adding a legend to distinguish the actual values\n",
    "plt.legend()\n",
    "\n",
    "# Display the plot\n",
    "plt.tight_layout()\n",
    "plt.show()"
   ]
  },
  {
   "cell_type": "markdown",
   "id": "d7bd1fd7-59a3-4ac6-b736-ab100db57625",
   "metadata": {},
   "source": [
    "## </h2><font size=\"4\">\n",
    "**2.2 Feature engineering--Combine Sentiment Score and Stock Price Together**"
   ]
  },
  {
   "cell_type": "code",
   "execution_count": 13,
   "id": "5dd0ac7a-0075-41c6-a3e6-0b70a3d06b3e",
   "metadata": {},
   "outputs": [
    {
     "data": {
      "text/html": [
       "<div>\n",
       "<style scoped>\n",
       "    .dataframe tbody tr th:only-of-type {\n",
       "        vertical-align: middle;\n",
       "    }\n",
       "\n",
       "    .dataframe tbody tr th {\n",
       "        vertical-align: top;\n",
       "    }\n",
       "\n",
       "    .dataframe thead th {\n",
       "        text-align: right;\n",
       "    }\n",
       "</style>\n",
       "<table border=\"1\" class=\"dataframe\">\n",
       "  <thead>\n",
       "    <tr style=\"text-align: right;\">\n",
       "      <th></th>\n",
       "      <th>compound</th>\n",
       "    </tr>\n",
       "    <tr>\n",
       "      <th>date</th>\n",
       "      <th></th>\n",
       "    </tr>\n",
       "  </thead>\n",
       "  <tbody>\n",
       "    <tr>\n",
       "      <th>2021-01-04</th>\n",
       "      <td>0.988900</td>\n",
       "    </tr>\n",
       "    <tr>\n",
       "      <th>2021-01-05</th>\n",
       "      <td>0.117950</td>\n",
       "    </tr>\n",
       "    <tr>\n",
       "      <th>2021-01-06</th>\n",
       "      <td>0.388850</td>\n",
       "    </tr>\n",
       "    <tr>\n",
       "      <th>2021-01-10</th>\n",
       "      <td>0.966700</td>\n",
       "    </tr>\n",
       "    <tr>\n",
       "      <th>2021-01-11</th>\n",
       "      <td>0.237925</td>\n",
       "    </tr>\n",
       "  </tbody>\n",
       "</table>\n",
       "</div>"
      ],
      "text/plain": [
       "            compound\n",
       "date                \n",
       "2021-01-04  0.988900\n",
       "2021-01-05  0.117950\n",
       "2021-01-06  0.388850\n",
       "2021-01-10  0.966700\n",
       "2021-01-11  0.237925"
      ]
     },
     "execution_count": 13,
     "metadata": {},
     "output_type": "execute_result"
    }
   ],
   "source": [
    "#get data we need and group the scores at the same day\n",
    "rgme_daily = rgme[['date','compound']].groupby('date').mean()\n",
    "rgme_daily.head()"
   ]
  },
  {
   "cell_type": "code",
   "execution_count": 14,
   "id": "7baea321-2eaf-402e-8e3e-ef1fc638831e",
   "metadata": {},
   "outputs": [
    {
     "data": {
      "text/plain": [
       "Date\n",
       "2021-01-04    4.3125\n",
       "2021-01-05    4.3425\n",
       "2021-01-06    4.5900\n",
       "2021-01-07    4.5200\n",
       "2021-01-08    4.4225\n",
       "Name: Close, dtype: float64"
      ]
     },
     "execution_count": 14,
     "metadata": {},
     "output_type": "execute_result"
    }
   ],
   "source": [
    "# Grab the close column as object\n",
    "data = gme_data['Close']\n",
    "data.head()"
   ]
  },
  {
   "cell_type": "code",
   "execution_count": 15,
   "id": "ab0982c5-b6b3-4adb-bcb6-8878ab2dc69c",
   "metadata": {},
   "outputs": [
    {
     "data": {
      "text/html": [
       "<div>\n",
       "<style scoped>\n",
       "    .dataframe tbody tr th:only-of-type {\n",
       "        vertical-align: middle;\n",
       "    }\n",
       "\n",
       "    .dataframe tbody tr th {\n",
       "        vertical-align: top;\n",
       "    }\n",
       "\n",
       "    .dataframe thead th {\n",
       "        text-align: right;\n",
       "    }\n",
       "</style>\n",
       "<table border=\"1\" class=\"dataframe\">\n",
       "  <thead>\n",
       "    <tr style=\"text-align: right;\">\n",
       "      <th></th>\n",
       "      <th>compound</th>\n",
       "      <th>stock</th>\n",
       "    </tr>\n",
       "    <tr>\n",
       "      <th>date</th>\n",
       "      <th></th>\n",
       "      <th></th>\n",
       "    </tr>\n",
       "  </thead>\n",
       "  <tbody>\n",
       "    <tr>\n",
       "      <th>2021-01-04</th>\n",
       "      <td>0.988900</td>\n",
       "      <td>4.312500</td>\n",
       "    </tr>\n",
       "    <tr>\n",
       "      <th>2021-01-05</th>\n",
       "      <td>0.117950</td>\n",
       "      <td>4.342500</td>\n",
       "    </tr>\n",
       "    <tr>\n",
       "      <th>2021-01-06</th>\n",
       "      <td>0.388850</td>\n",
       "      <td>4.590000</td>\n",
       "    </tr>\n",
       "    <tr>\n",
       "      <th>2021-01-11</th>\n",
       "      <td>0.237925</td>\n",
       "      <td>4.985000</td>\n",
       "    </tr>\n",
       "    <tr>\n",
       "      <th>2021-01-12</th>\n",
       "      <td>-0.136600</td>\n",
       "      <td>4.987500</td>\n",
       "    </tr>\n",
       "    <tr>\n",
       "      <th>...</th>\n",
       "      <td>...</td>\n",
       "      <td>...</td>\n",
       "    </tr>\n",
       "    <tr>\n",
       "      <th>2021-08-25</th>\n",
       "      <td>0.133748</td>\n",
       "      <td>49.912498</td>\n",
       "    </tr>\n",
       "    <tr>\n",
       "      <th>2021-08-26</th>\n",
       "      <td>0.121672</td>\n",
       "      <td>51.305000</td>\n",
       "    </tr>\n",
       "    <tr>\n",
       "      <th>2021-08-27</th>\n",
       "      <td>0.136975</td>\n",
       "      <td>51.237499</td>\n",
       "    </tr>\n",
       "    <tr>\n",
       "      <th>2021-08-30</th>\n",
       "      <td>0.123952</td>\n",
       "      <td>52.299999</td>\n",
       "    </tr>\n",
       "    <tr>\n",
       "      <th>2021-08-31</th>\n",
       "      <td>0.116128</td>\n",
       "      <td>54.560001</td>\n",
       "    </tr>\n",
       "  </tbody>\n",
       "</table>\n",
       "<p>155 rows × 2 columns</p>\n",
       "</div>"
      ],
      "text/plain": [
       "            compound      stock\n",
       "date                           \n",
       "2021-01-04  0.988900   4.312500\n",
       "2021-01-05  0.117950   4.342500\n",
       "2021-01-06  0.388850   4.590000\n",
       "2021-01-11  0.237925   4.985000\n",
       "2021-01-12 -0.136600   4.987500\n",
       "...              ...        ...\n",
       "2021-08-25  0.133748  49.912498\n",
       "2021-08-26  0.121672  51.305000\n",
       "2021-08-27  0.136975  51.237499\n",
       "2021-08-30  0.123952  52.299999\n",
       "2021-08-31  0.116128  54.560001\n",
       "\n",
       "[155 rows x 2 columns]"
      ]
     },
     "execution_count": 15,
     "metadata": {},
     "output_type": "execute_result"
    }
   ],
   "source": [
    "#merge score and stock price\n",
    "data = data.to_frame(name='stock')\n",
    "merged_df = pd.merge(rgme_daily, data, left_on='date', right_on='Date', how='inner',right_index = True)\n",
    "merged_df"
   ]
  },
  {
   "cell_type": "markdown",
   "id": "47498b31-fed7-4b20-9b10-0a233a9422d3",
   "metadata": {
    "jp-MarkdownHeadingCollapsed": true
   },
   "source": [
    "## </h2><font size=\"4\">\n",
    "**2.3 Build up Time-Series Model Using LSTM**"
   ]
  },
  {
   "cell_type": "code",
   "execution_count": 16,
   "id": "68158493-050f-472c-9688-edf23b91b3ed",
   "metadata": {},
   "outputs": [
    {
     "data": {
      "text/plain": [
       "(65, 102)"
      ]
     },
     "execution_count": 16,
     "metadata": {},
     "output_type": "execute_result"
    }
   ],
   "source": [
    "# Split the test, train and predict data\n",
    "train = data.iloc[:102] # January~May\n",
    "test = data.iloc[102:] # June~August\n",
    "len(test),len(train)"
   ]
  },
  {
   "cell_type": "code",
   "execution_count": 17,
   "id": "09d4da1f-7c28-42b1-89ec-8881467cef6a",
   "metadata": {},
   "outputs": [],
   "source": [
    "# Reshape data\n",
    "train_arr = train.values.reshape(-1, 1)\n",
    "test_arr = test.values.reshape(-1, 1)"
   ]
  },
  {
   "cell_type": "code",
   "execution_count": 18,
   "id": "634eafc5-a5c1-47f5-bb8e-d2202c72c314",
   "metadata": {},
   "outputs": [],
   "source": [
    "# Scale the data\n",
    "from sklearn.preprocessing import MinMaxScaler\n",
    "scaler = MinMaxScaler(feature_range=(0, 1))\n",
    "scaler.fit(train_arr)\n",
    "train_scaled = scaler.transform(train_arr)\n",
    "test_scaled = scaler.transform(test_arr)"
   ]
  },
  {
   "cell_type": "code",
   "execution_count": 19,
   "id": "0358edf2-5715-4952-b7a3-e266280b55de",
   "metadata": {},
   "outputs": [],
   "source": [
    "from keras.preprocessing.sequence import TimeseriesGenerator"
   ]
  },
  {
   "cell_type": "code",
   "execution_count": 20,
   "id": "6ee3a962-010a-441c-a70a-f15341acca3b",
   "metadata": {},
   "outputs": [],
   "source": [
    "# Set the input and feature of the model and create time-series generator for analysis\n",
    "input_n = 15\n",
    "features_n = 1\n",
    "generator_train = TimeseriesGenerator(train_scaled,train_scaled,length= input_n, batch_size = 1)"
   ]
  },
  {
   "cell_type": "code",
   "execution_count": 21,
   "id": "d4df65de-7a9c-4d41-a723-34ee651264aa",
   "metadata": {},
   "outputs": [
    {
     "name": "stdout",
     "output_type": "stream",
     "text": [
      "WARNING:tensorflow:From C:\\Users\\10788\\AppData\\Local\\Programs\\Python\\Python311\\Lib\\site-packages\\keras\\src\\backend.py:873: The name tf.get_default_graph is deprecated. Please use tf.compat.v1.get_default_graph instead.\n",
      "\n",
      "WARNING:tensorflow:From C:\\Users\\10788\\AppData\\Local\\Programs\\Python\\Python311\\Lib\\site-packages\\keras\\src\\optimizers\\__init__.py:309: The name tf.train.Optimizer is deprecated. Please use tf.compat.v1.train.Optimizer instead.\n",
      "\n"
     ]
    }
   ],
   "source": [
    "# build model by setting variables\n",
    "model = Sequential()\n",
    "model.add(LSTM(150, activation = 'relu', input_shape = (input_n,features_n)))\n",
    "model.add(Dense(1))\n",
    "model.compile(optimizer = 'adam', loss = 'mse')"
   ]
  },
  {
   "cell_type": "code",
   "execution_count": 22,
   "id": "59a9e4ba-e19e-4d60-9df8-eff9823e76b8",
   "metadata": {},
   "outputs": [
    {
     "name": "stdout",
     "output_type": "stream",
     "text": [
      "Model: \"sequential\"\n",
      "_________________________________________________________________\n",
      " Layer (type)                Output Shape              Param #   \n",
      "=================================================================\n",
      " lstm (LSTM)                 (None, 150)               91200     \n",
      "                                                                 \n",
      " dense (Dense)               (None, 1)                 151       \n",
      "                                                                 \n",
      "=================================================================\n",
      "Total params: 91351 (356.84 KB)\n",
      "Trainable params: 91351 (356.84 KB)\n",
      "Non-trainable params: 0 (0.00 Byte)\n",
      "_________________________________________________________________\n"
     ]
    }
   ],
   "source": [
    "#check the model information\n",
    "model.summary()"
   ]
  },
  {
   "cell_type": "code",
   "execution_count": 23,
   "id": "97297899-3d28-4b35-9503-90b29aa5136f",
   "metadata": {},
   "outputs": [
    {
     "name": "stdout",
     "output_type": "stream",
     "text": [
      "Epoch 1/200\n"
     ]
    },
    {
     "name": "stderr",
     "output_type": "stream",
     "text": [
      "C:\\Users\\10788\\AppData\\Local\\Temp\\ipykernel_4252\\2646535761.py:2: UserWarning: `Model.fit_generator` is deprecated and will be removed in a future version. Please use `Model.fit`, which supports generators.\n",
      "  model.fit_generator (generator_train,epochs =200)\n"
     ]
    },
    {
     "name": "stdout",
     "output_type": "stream",
     "text": [
      "WARNING:tensorflow:From C:\\Users\\10788\\AppData\\Local\\Programs\\Python\\Python311\\Lib\\site-packages\\keras\\src\\utils\\tf_utils.py:492: The name tf.ragged.RaggedTensorValue is deprecated. Please use tf.compat.v1.ragged.RaggedTensorValue instead.\n",
      "\n",
      "87/87 [==============================] - 2s 5ms/step - loss: 0.0465\n",
      "Epoch 2/200\n",
      "87/87 [==============================] - 1s 6ms/step - loss: 0.0277\n",
      "Epoch 3/200\n",
      "87/87 [==============================] - 0s 5ms/step - loss: 0.0274\n",
      "Epoch 4/200\n",
      "87/87 [==============================] - 1s 6ms/step - loss: 0.0233\n",
      "Epoch 5/200\n",
      "87/87 [==============================] - 0s 5ms/step - loss: 0.0211\n",
      "Epoch 6/200\n",
      "87/87 [==============================] - 0s 5ms/step - loss: 0.0193\n",
      "Epoch 7/200\n",
      "87/87 [==============================] - 0s 5ms/step - loss: 0.0206\n",
      "Epoch 8/200\n",
      "87/87 [==============================] - 1s 6ms/step - loss: 0.0178\n",
      "Epoch 9/200\n",
      "87/87 [==============================] - 0s 5ms/step - loss: 0.0154\n",
      "Epoch 10/200\n",
      "87/87 [==============================] - 1s 6ms/step - loss: 0.0160\n",
      "Epoch 11/200\n",
      "87/87 [==============================] - 0s 5ms/step - loss: 0.0150\n",
      "Epoch 12/200\n",
      "87/87 [==============================] - 0s 5ms/step - loss: 0.0135\n",
      "Epoch 13/200\n",
      "87/87 [==============================] - 1s 6ms/step - loss: 0.0137\n",
      "Epoch 14/200\n",
      "87/87 [==============================] - 0s 5ms/step - loss: 0.0129\n",
      "Epoch 15/200\n",
      "87/87 [==============================] - 0s 5ms/step - loss: 0.0128\n",
      "Epoch 16/200\n",
      "87/87 [==============================] - 1s 6ms/step - loss: 0.0112\n",
      "Epoch 17/200\n",
      "87/87 [==============================] - 0s 5ms/step - loss: 0.0108\n",
      "Epoch 18/200\n",
      "87/87 [==============================] - 1s 6ms/step - loss: 0.0116\n",
      "Epoch 19/200\n",
      "87/87 [==============================] - 0s 5ms/step - loss: 0.0115\n",
      "Epoch 20/200\n",
      "87/87 [==============================] - 1s 6ms/step - loss: 0.0106\n",
      "Epoch 21/200\n",
      "87/87 [==============================] - 0s 5ms/step - loss: 0.0111\n",
      "Epoch 22/200\n",
      "87/87 [==============================] - 0s 5ms/step - loss: 0.0100\n",
      "Epoch 23/200\n",
      "87/87 [==============================] - 0s 5ms/step - loss: 0.0102\n",
      "Epoch 24/200\n",
      "87/87 [==============================] - 1s 6ms/step - loss: 0.0105\n",
      "Epoch 25/200\n",
      "87/87 [==============================] - 0s 5ms/step - loss: 0.0096\n",
      "Epoch 26/200\n",
      "87/87 [==============================] - 1s 6ms/step - loss: 0.0096\n",
      "Epoch 27/200\n",
      "87/87 [==============================] - 0s 5ms/step - loss: 0.0096\n",
      "Epoch 28/200\n",
      "87/87 [==============================] - 1s 6ms/step - loss: 0.0086\n",
      "Epoch 29/200\n",
      "87/87 [==============================] - 0s 5ms/step - loss: 0.0083\n",
      "Epoch 30/200\n",
      "87/87 [==============================] - 1s 6ms/step - loss: 0.0096\n",
      "Epoch 31/200\n",
      "87/87 [==============================] - 0s 5ms/step - loss: 0.0093\n",
      "Epoch 32/200\n",
      "87/87 [==============================] - 0s 5ms/step - loss: 0.0086\n",
      "Epoch 33/200\n",
      "87/87 [==============================] - 1s 6ms/step - loss: 0.0082\n",
      "Epoch 34/200\n",
      "87/87 [==============================] - 0s 5ms/step - loss: 0.0085\n",
      "Epoch 35/200\n",
      "87/87 [==============================] - 0s 5ms/step - loss: 0.0077\n",
      "Epoch 36/200\n",
      "87/87 [==============================] - 0s 5ms/step - loss: 0.0073\n",
      "Epoch 37/200\n",
      "87/87 [==============================] - 0s 5ms/step - loss: 0.0074\n",
      "Epoch 38/200\n",
      "87/87 [==============================] - 0s 5ms/step - loss: 0.0083\n",
      "Epoch 39/200\n",
      "87/87 [==============================] - 1s 6ms/step - loss: 0.0079\n",
      "Epoch 40/200\n",
      "87/87 [==============================] - 0s 5ms/step - loss: 0.0070\n",
      "Epoch 41/200\n",
      "87/87 [==============================] - 1s 6ms/step - loss: 0.0061\n",
      "Epoch 42/200\n",
      "87/87 [==============================] - 0s 5ms/step - loss: 0.0072\n",
      "Epoch 43/200\n",
      "87/87 [==============================] - 0s 5ms/step - loss: 0.0074\n",
      "Epoch 44/200\n",
      "87/87 [==============================] - 1s 6ms/step - loss: 0.0067\n",
      "Epoch 45/200\n",
      "87/87 [==============================] - 0s 5ms/step - loss: 0.0060\n",
      "Epoch 46/200\n",
      "87/87 [==============================] - 1s 6ms/step - loss: 0.0057\n",
      "Epoch 47/200\n",
      "87/87 [==============================] - 0s 5ms/step - loss: 0.0061\n",
      "Epoch 48/200\n",
      "87/87 [==============================] - 0s 5ms/step - loss: 0.0081\n",
      "Epoch 49/200\n",
      "87/87 [==============================] - 1s 6ms/step - loss: 0.0076\n",
      "Epoch 50/200\n",
      "87/87 [==============================] - 0s 5ms/step - loss: 0.0068\n",
      "Epoch 51/200\n",
      "87/87 [==============================] - 0s 5ms/step - loss: 0.0061\n",
      "Epoch 52/200\n",
      "87/87 [==============================] - 0s 5ms/step - loss: 0.0073\n",
      "Epoch 53/200\n",
      "87/87 [==============================] - 0s 5ms/step - loss: 0.0078\n",
      "Epoch 54/200\n",
      "87/87 [==============================] - 1s 6ms/step - loss: 0.0060\n",
      "Epoch 55/200\n",
      "87/87 [==============================] - 0s 5ms/step - loss: 0.0066\n",
      "Epoch 56/200\n",
      "87/87 [==============================] - 0s 5ms/step - loss: 0.0079\n",
      "Epoch 57/200\n",
      "87/87 [==============================] - 0s 5ms/step - loss: 0.0056\n",
      "Epoch 58/200\n",
      "87/87 [==============================] - 0s 5ms/step - loss: 0.0055\n",
      "Epoch 59/200\n",
      "87/87 [==============================] - 1s 6ms/step - loss: 0.0059\n",
      "Epoch 60/200\n",
      "87/87 [==============================] - 1s 6ms/step - loss: 0.0060\n",
      "Epoch 61/200\n",
      "87/87 [==============================] - 0s 5ms/step - loss: 0.0054\n",
      "Epoch 62/200\n",
      "87/87 [==============================] - 1s 5ms/step - loss: 0.0055\n",
      "Epoch 63/200\n",
      "87/87 [==============================] - 0s 5ms/step - loss: 0.0049\n",
      "Epoch 64/200\n",
      "87/87 [==============================] - 1s 6ms/step - loss: 0.0051\n",
      "Epoch 65/200\n",
      "87/87 [==============================] - 0s 5ms/step - loss: 0.0056\n",
      "Epoch 66/200\n",
      "87/87 [==============================] - 0s 5ms/step - loss: 0.0053\n",
      "Epoch 67/200\n",
      "87/87 [==============================] - 0s 5ms/step - loss: 0.0061\n",
      "Epoch 68/200\n",
      "87/87 [==============================] - 0s 5ms/step - loss: 0.0050\n",
      "Epoch 69/200\n",
      "87/87 [==============================] - 1s 6ms/step - loss: 0.0050\n",
      "Epoch 70/200\n",
      "87/87 [==============================] - 0s 5ms/step - loss: 0.0051\n",
      "Epoch 71/200\n",
      "87/87 [==============================] - 0s 5ms/step - loss: 0.0046\n",
      "Epoch 72/200\n",
      "87/87 [==============================] - 1s 6ms/step - loss: 0.0050\n",
      "Epoch 73/200\n",
      "87/87 [==============================] - 0s 5ms/step - loss: 0.0049\n",
      "Epoch 74/200\n",
      "87/87 [==============================] - 0s 5ms/step - loss: 0.0048\n",
      "Epoch 75/200\n",
      "87/87 [==============================] - 0s 5ms/step - loss: 0.0070\n",
      "Epoch 76/200\n",
      "87/87 [==============================] - 0s 5ms/step - loss: 0.0054\n",
      "Epoch 77/200\n",
      "87/87 [==============================] - 1s 6ms/step - loss: 0.0052\n",
      "Epoch 78/200\n",
      "87/87 [==============================] - 0s 5ms/step - loss: 0.0046\n",
      "Epoch 79/200\n",
      "87/87 [==============================] - 1s 6ms/step - loss: 0.0043\n",
      "Epoch 80/200\n",
      "87/87 [==============================] - 0s 5ms/step - loss: 0.0044\n",
      "Epoch 81/200\n",
      "87/87 [==============================] - 1s 6ms/step - loss: 0.0043\n",
      "Epoch 82/200\n",
      "87/87 [==============================] - 0s 5ms/step - loss: 0.0041\n",
      "Epoch 83/200\n",
      "87/87 [==============================] - 1s 6ms/step - loss: 0.0046\n",
      "Epoch 84/200\n",
      "87/87 [==============================] - 0s 5ms/step - loss: 0.0048\n",
      "Epoch 85/200\n",
      "87/87 [==============================] - 0s 5ms/step - loss: 0.0040\n",
      "Epoch 86/200\n",
      "87/87 [==============================] - 0s 5ms/step - loss: 0.0040\n",
      "Epoch 87/200\n",
      "87/87 [==============================] - 1s 6ms/step - loss: 0.0051\n",
      "Epoch 88/200\n",
      "87/87 [==============================] - 0s 5ms/step - loss: 0.0041\n",
      "Epoch 89/200\n",
      "87/87 [==============================] - 1s 6ms/step - loss: 0.0038\n",
      "Epoch 90/200\n",
      "87/87 [==============================] - 0s 5ms/step - loss: 0.0044\n",
      "Epoch 91/200\n",
      "87/87 [==============================] - 1s 6ms/step - loss: 0.0039\n",
      "Epoch 92/200\n",
      "87/87 [==============================] - 0s 5ms/step - loss: 0.0039\n",
      "Epoch 93/200\n",
      "87/87 [==============================] - 0s 5ms/step - loss: 0.0035\n",
      "Epoch 94/200\n",
      "87/87 [==============================] - 0s 6ms/step - loss: 0.0039\n",
      "Epoch 95/200\n",
      "87/87 [==============================] - 0s 5ms/step - loss: 0.0040\n",
      "Epoch 96/200\n",
      "87/87 [==============================] - 0s 5ms/step - loss: 0.0038\n",
      "Epoch 97/200\n",
      "87/87 [==============================] - 1s 6ms/step - loss: 0.0034\n",
      "Epoch 98/200\n",
      "87/87 [==============================] - 0s 5ms/step - loss: 0.0049\n",
      "Epoch 99/200\n",
      "87/87 [==============================] - 1s 6ms/step - loss: 0.0038\n",
      "Epoch 100/200\n",
      "87/87 [==============================] - 0s 5ms/step - loss: 0.0039\n",
      "Epoch 101/200\n",
      "87/87 [==============================] - 0s 5ms/step - loss: 0.0045\n",
      "Epoch 102/200\n",
      "87/87 [==============================] - 1s 6ms/step - loss: 0.0047\n",
      "Epoch 103/200\n",
      "87/87 [==============================] - 0s 5ms/step - loss: 0.0037\n",
      "Epoch 104/200\n",
      "87/87 [==============================] - 0s 5ms/step - loss: 0.0038\n",
      "Epoch 105/200\n",
      "87/87 [==============================] - 1s 6ms/step - loss: 0.0046\n",
      "Epoch 106/200\n",
      "87/87 [==============================] - 0s 5ms/step - loss: 0.0035\n",
      "Epoch 107/200\n",
      "87/87 [==============================] - 1s 6ms/step - loss: 0.0041\n",
      "Epoch 108/200\n",
      "87/87 [==============================] - 0s 5ms/step - loss: 0.0037\n",
      "Epoch 109/200\n",
      "87/87 [==============================] - 0s 5ms/step - loss: 0.0034\n",
      "Epoch 110/200\n",
      "87/87 [==============================] - 0s 5ms/step - loss: 0.0033\n",
      "Epoch 111/200\n",
      "87/87 [==============================] - 1s 6ms/step - loss: 0.0033\n",
      "Epoch 112/200\n",
      "87/87 [==============================] - 0s 5ms/step - loss: 0.0037\n",
      "Epoch 113/200\n",
      "87/87 [==============================] - 0s 5ms/step - loss: 0.0037\n",
      "Epoch 114/200\n",
      "87/87 [==============================] - 1s 6ms/step - loss: 0.0034\n",
      "Epoch 115/200\n",
      "87/87 [==============================] - 0s 5ms/step - loss: 0.0032\n",
      "Epoch 116/200\n",
      "87/87 [==============================] - 1s 6ms/step - loss: 0.0035\n",
      "Epoch 117/200\n",
      "87/87 [==============================] - 0s 5ms/step - loss: 0.0035\n",
      "Epoch 118/200\n",
      "87/87 [==============================] - 0s 5ms/step - loss: 0.0035\n",
      "Epoch 119/200\n",
      "87/87 [==============================] - 1s 6ms/step - loss: 0.0039\n",
      "Epoch 120/200\n",
      "87/87 [==============================] - 0s 5ms/step - loss: 0.0038\n",
      "Epoch 121/200\n",
      "87/87 [==============================] - 1s 6ms/step - loss: 0.0036\n",
      "Epoch 122/200\n",
      "87/87 [==============================] - 0s 5ms/step - loss: 0.0033\n",
      "Epoch 123/200\n",
      "87/87 [==============================] - 0s 5ms/step - loss: 0.0032\n",
      "Epoch 124/200\n",
      "87/87 [==============================] - 1s 6ms/step - loss: 0.0049\n",
      "Epoch 125/200\n",
      "87/87 [==============================] - 0s 5ms/step - loss: 0.0033\n",
      "Epoch 126/200\n",
      "87/87 [==============================] - 0s 6ms/step - loss: 0.0032\n",
      "Epoch 127/200\n",
      "87/87 [==============================] - 0s 5ms/step - loss: 0.0030\n",
      "Epoch 128/200\n",
      "87/87 [==============================] - 0s 5ms/step - loss: 0.0029\n",
      "Epoch 129/200\n",
      "87/87 [==============================] - 0s 5ms/step - loss: 0.0030\n",
      "Epoch 130/200\n",
      "87/87 [==============================] - 0s 5ms/step - loss: 0.0031\n",
      "Epoch 131/200\n",
      "87/87 [==============================] - 0s 5ms/step - loss: 0.0030\n",
      "Epoch 132/200\n",
      "87/87 [==============================] - 1s 6ms/step - loss: 0.0027\n",
      "Epoch 133/200\n",
      "87/87 [==============================] - 0s 5ms/step - loss: 0.0029\n",
      "Epoch 134/200\n",
      "87/87 [==============================] - 1s 6ms/step - loss: 0.0031\n",
      "Epoch 135/200\n",
      "87/87 [==============================] - 0s 5ms/step - loss: 0.0029\n",
      "Epoch 136/200\n",
      "87/87 [==============================] - 0s 5ms/step - loss: 0.0039\n",
      "Epoch 137/200\n",
      "87/87 [==============================] - 1s 6ms/step - loss: 0.0045\n",
      "Epoch 138/200\n",
      "87/87 [==============================] - 0s 5ms/step - loss: 0.0035\n",
      "Epoch 139/200\n",
      "87/87 [==============================] - 1s 6ms/step - loss: 0.0044\n",
      "Epoch 140/200\n",
      "87/87 [==============================] - 0s 5ms/step - loss: 0.0028\n",
      "Epoch 141/200\n",
      "87/87 [==============================] - 0s 5ms/step - loss: 0.0029\n",
      "Epoch 142/200\n",
      "87/87 [==============================] - 1s 6ms/step - loss: 0.0027\n",
      "Epoch 143/200\n",
      "87/87 [==============================] - 0s 5ms/step - loss: 0.0030\n",
      "Epoch 144/200\n",
      "87/87 [==============================] - 0s 5ms/step - loss: 0.0030\n",
      "Epoch 145/200\n",
      "87/87 [==============================] - 1s 5ms/step - loss: 0.0027\n",
      "Epoch 146/200\n",
      "87/87 [==============================] - 0s 5ms/step - loss: 0.0028\n",
      "Epoch 147/200\n",
      "87/87 [==============================] - 0s 6ms/step - loss: 0.0028\n",
      "Epoch 148/200\n",
      "87/87 [==============================] - 0s 5ms/step - loss: 0.0024\n",
      "Epoch 149/200\n",
      "87/87 [==============================] - 0s 5ms/step - loss: 0.0026\n",
      "Epoch 150/200\n",
      "87/87 [==============================] - 1s 6ms/step - loss: 0.0026\n",
      "Epoch 151/200\n",
      "87/87 [==============================] - 0s 5ms/step - loss: 0.0029\n",
      "Epoch 152/200\n",
      "87/87 [==============================] - 1s 6ms/step - loss: 0.0036\n",
      "Epoch 153/200\n",
      "87/87 [==============================] - 0s 5ms/step - loss: 0.0036\n",
      "Epoch 154/200\n",
      "87/87 [==============================] - 1s 6ms/step - loss: 0.0032\n",
      "Epoch 155/200\n",
      "87/87 [==============================] - 0s 5ms/step - loss: 0.0026\n",
      "Epoch 156/200\n",
      "87/87 [==============================] - 0s 5ms/step - loss: 0.0028\n",
      "Epoch 157/200\n",
      "87/87 [==============================] - 1s 6ms/step - loss: 0.0029\n",
      "Epoch 158/200\n",
      "87/87 [==============================] - 0s 5ms/step - loss: 0.0030\n",
      "Epoch 159/200\n",
      "87/87 [==============================] - 0s 5ms/step - loss: 0.0029\n",
      "Epoch 160/200\n",
      "87/87 [==============================] - 0s 5ms/step - loss: 0.0026\n",
      "Epoch 161/200\n",
      "87/87 [==============================] - 0s 5ms/step - loss: 0.0027\n",
      "Epoch 162/200\n",
      "87/87 [==============================] - 0s 5ms/step - loss: 0.0025\n",
      "Epoch 163/200\n",
      "87/87 [==============================] - 1s 6ms/step - loss: 0.0026\n",
      "Epoch 164/200\n",
      "87/87 [==============================] - 0s 5ms/step - loss: 0.0028\n",
      "Epoch 165/200\n",
      "87/87 [==============================] - 0s 5ms/step - loss: 0.0031\n",
      "Epoch 166/200\n",
      "87/87 [==============================] - 1s 6ms/step - loss: 0.0041\n",
      "Epoch 167/200\n",
      "87/87 [==============================] - 0s 5ms/step - loss: 0.0038\n",
      "Epoch 168/200\n",
      "87/87 [==============================] - 1s 6ms/step - loss: 0.0036\n",
      "Epoch 169/200\n",
      "87/87 [==============================] - 0s 5ms/step - loss: 0.0025\n",
      "Epoch 170/200\n",
      "87/87 [==============================] - 0s 5ms/step - loss: 0.0022\n",
      "Epoch 171/200\n",
      "87/87 [==============================] - 1s 6ms/step - loss: 0.0021\n",
      "Epoch 172/200\n",
      "87/87 [==============================] - 0s 5ms/step - loss: 0.0022\n",
      "Epoch 173/200\n",
      "87/87 [==============================] - 0s 5ms/step - loss: 0.0027\n",
      "Epoch 174/200\n",
      "87/87 [==============================] - 1s 6ms/step - loss: 0.0024\n",
      "Epoch 175/200\n",
      "87/87 [==============================] - 1s 6ms/step - loss: 0.0020\n",
      "Epoch 176/200\n",
      "87/87 [==============================] - 1s 6ms/step - loss: 0.0023\n",
      "Epoch 177/200\n",
      "87/87 [==============================] - 1s 5ms/step - loss: 0.0024\n",
      "Epoch 178/200\n",
      "87/87 [==============================] - 1s 6ms/step - loss: 0.0038\n",
      "Epoch 179/200\n",
      "87/87 [==============================] - 1s 6ms/step - loss: 0.0023\n",
      "Epoch 180/200\n",
      "87/87 [==============================] - 0s 5ms/step - loss: 0.0023\n",
      "Epoch 181/200\n",
      "87/87 [==============================] - 0s 5ms/step - loss: 0.0040\n",
      "Epoch 182/200\n",
      "87/87 [==============================] - 1s 5ms/step - loss: 0.0051\n",
      "Epoch 183/200\n",
      "87/87 [==============================] - 0s 5ms/step - loss: 0.0026\n",
      "Epoch 184/200\n",
      "87/87 [==============================] - 1s 6ms/step - loss: 0.0024\n",
      "Epoch 185/200\n",
      "87/87 [==============================] - 0s 5ms/step - loss: 0.0024\n",
      "Epoch 186/200\n",
      "87/87 [==============================] - 1s 6ms/step - loss: 0.0022\n",
      "Epoch 187/200\n",
      "87/87 [==============================] - 0s 5ms/step - loss: 0.0025\n",
      "Epoch 188/200\n",
      "87/87 [==============================] - 0s 5ms/step - loss: 0.0021\n",
      "Epoch 189/200\n",
      "87/87 [==============================] - 0s 5ms/step - loss: 0.0022\n",
      "Epoch 190/200\n",
      "87/87 [==============================] - 0s 5ms/step - loss: 0.0030\n",
      "Epoch 191/200\n",
      "87/87 [==============================] - 1s 6ms/step - loss: 0.0029\n",
      "Epoch 192/200\n",
      "87/87 [==============================] - 0s 5ms/step - loss: 0.0021\n",
      "Epoch 193/200\n",
      "87/87 [==============================] - 1s 6ms/step - loss: 0.0017\n",
      "Epoch 194/200\n",
      "87/87 [==============================] - 0s 5ms/step - loss: 0.0020\n",
      "Epoch 195/200\n",
      "87/87 [==============================] - 0s 5ms/step - loss: 0.0024\n",
      "Epoch 196/200\n",
      "87/87 [==============================] - 1s 6ms/step - loss: 0.0021\n",
      "Epoch 197/200\n",
      "87/87 [==============================] - 0s 5ms/step - loss: 0.0037\n",
      "Epoch 198/200\n",
      "87/87 [==============================] - 1s 6ms/step - loss: 0.0032\n",
      "Epoch 199/200\n",
      "87/87 [==============================] - 0s 5ms/step - loss: 0.0030\n",
      "Epoch 200/200\n",
      "87/87 [==============================] - 0s 5ms/step - loss: 0.0022\n"
     ]
    },
    {
     "data": {
      "text/plain": [
       "<keras.src.callbacks.History at 0x17e9bbcedd0>"
      ]
     },
     "execution_count": 23,
     "metadata": {},
     "output_type": "execute_result"
    }
   ],
   "source": [
    "#train the model\n",
    "model.fit_generator (generator_train,epochs =200)"
   ]
  },
  {
   "cell_type": "code",
   "execution_count": 24,
   "id": "200496b5-826e-4871-b55f-0c7cf573cca1",
   "metadata": {},
   "outputs": [
    {
     "data": {
      "text/plain": [
       "[<matplotlib.lines.Line2D at 0x17e9bc16310>]"
      ]
     },
     "execution_count": 24,
     "metadata": {},
     "output_type": "execute_result"
    },
    {
     "data": {
      "image/png": "[encoded data removed]",
      "text/plain": [
       "<Figure size 640x480 with 1 Axes>"
      ]
     },
     "metadata": {},
     "output_type": "display_data"
    }
   ],
   "source": [
    "#visualize the loss function gradient decsent\n",
    "plt.plot(range(len(model.history.history['loss'])),model.history.history['loss'])"
   ]
  },
  {
   "cell_type": "markdown",
   "id": "82c0521d-8ee7-4631-86b7-eea62bd32398",
   "metadata": {},
   "source": [
    "## </h2><font size=\"4\">\n",
    "**2.4 Predict Using LSTM Model**"
   ]
  },
  {
   "cell_type": "code",
   "execution_count": 25,
   "id": "3d7a4ddf-ba3d-4935-a3c2-d7a10a9d4767",
   "metadata": {},
   "outputs": [
    {
     "name": "stdout",
     "output_type": "stream",
     "text": [
      "1/1 [==============================] - 0s 265ms/step\n",
      "1/1 [==============================] - 0s 29ms/step\n",
      "1/1 [==============================] - 0s 32ms/step\n",
      "1/1 [==============================] - 0s 38ms/step\n",
      "1/1 [==============================] - 0s 28ms/step\n",
      "1/1 [==============================] - 0s 37ms/step\n",
      "1/1 [==============================] - 0s 33ms/step\n",
      "1/1 [==============================] - 0s 25ms/step\n",
      "1/1 [==============================] - 0s 23ms/step\n",
      "1/1 [==============================] - 0s 52ms/step\n",
      "1/1 [==============================] - 0s 29ms/step\n",
      "1/1 [==============================] - 0s 34ms/step\n",
      "1/1 [==============================] - 0s 32ms/step\n",
      "1/1 [==============================] - 0s 29ms/step\n",
      "1/1 [==============================] - 0s 23ms/step\n",
      "1/1 [==============================] - 0s 23ms/step\n",
      "1/1 [==============================] - 0s 26ms/step\n",
      "1/1 [==============================] - 0s 29ms/step\n",
      "1/1 [==============================] - 0s 27ms/step\n",
      "1/1 [==============================] - 0s 26ms/step\n",
      "1/1 [==============================] - 0s 30ms/step\n",
      "1/1 [==============================] - 0s 24ms/step\n",
      "1/1 [==============================] - 0s 25ms/step\n",
      "1/1 [==============================] - 0s 26ms/step\n",
      "1/1 [==============================] - 0s 30ms/step\n",
      "1/1 [==============================] - 0s 28ms/step\n",
      "1/1 [==============================] - 0s 29ms/step\n",
      "1/1 [==============================] - 0s 95ms/step\n",
      "1/1 [==============================] - 0s 33ms/step\n",
      "1/1 [==============================] - 0s 29ms/step\n",
      "1/1 [==============================] - 0s 30ms/step\n",
      "1/1 [==============================] - 0s 33ms/step\n",
      "1/1 [==============================] - 0s 23ms/step\n",
      "1/1 [==============================] - 0s 24ms/step\n",
      "1/1 [==============================] - 0s 31ms/step\n",
      "1/1 [==============================] - 0s 28ms/step\n",
      "1/1 [==============================] - 0s 30ms/step\n",
      "1/1 [==============================] - 0s 32ms/step\n",
      "1/1 [==============================] - 0s 28ms/step\n",
      "1/1 [==============================] - 0s 33ms/step\n",
      "1/1 [==============================] - 0s 30ms/step\n",
      "1/1 [==============================] - 0s 29ms/step\n",
      "1/1 [==============================] - 0s 26ms/step\n",
      "1/1 [==============================] - 0s 25ms/step\n",
      "1/1 [==============================] - 0s 27ms/step\n",
      "1/1 [==============================] - 0s 74ms/step\n",
      "1/1 [==============================] - 0s 30ms/step\n",
      "1/1 [==============================] - 0s 30ms/step\n",
      "1/1 [==============================] - 0s 32ms/step\n",
      "1/1 [==============================] - 0s 28ms/step\n",
      "1/1 [==============================] - 0s 26ms/step\n",
      "1/1 [==============================] - 0s 32ms/step\n",
      "1/1 [==============================] - 0s 29ms/step\n",
      "1/1 [==============================] - 0s 28ms/step\n",
      "1/1 [==============================] - 0s 25ms/step\n",
      "1/1 [==============================] - 0s 27ms/step\n",
      "1/1 [==============================] - 0s 26ms/step\n",
      "1/1 [==============================] - 0s 28ms/step\n",
      "1/1 [==============================] - 0s 29ms/step\n",
      "1/1 [==============================] - 0s 26ms/step\n",
      "1/1 [==============================] - 0s 30ms/step\n",
      "1/1 [==============================] - 0s 27ms/step\n",
      "1/1 [==============================] - 0s 26ms/step\n",
      "1/1 [==============================] - 0s 29ms/step\n",
      "1/1 [==============================] - 0s 32ms/step\n"
     ]
    }
   ],
   "source": [
    "# Reference: Udemy course: Python for Time Series Data Analysis,https://www.udemy.com/course/python-for-time-series-data-analysis/learn/lecture/14522130#overview\n",
    "# Create a list to store predicted data\n",
    "test_predictions = []\n",
    "# Get the last input_n points from the training data\n",
    "first_eval_batch = train_scaled[-input_n:]\n",
    "# reshape the data format\n",
    "current_batch = first_eval_batch.reshape(1,input_n,features_n)\n",
    "#predict in a loop\n",
    "for i in range (len(test)):\n",
    "    current_pred = model.predict(current_batch)[0]\n",
    "    test_predictions.append(current_pred)\n",
    "    current_batch = np.append(current_batch[:,1:,:],[[current_pred]],axis=1)"
   ]
  },
  {
   "cell_type": "code",
   "execution_count": 26,
   "id": "715cc5da-2ec9-44ad-8c3c-1f8a06168ae2",
   "metadata": {},
   "outputs": [],
   "source": [
    "# rescale the data and flatten the data\n",
    "test_nonscaled_predictions = scaler.inverse_transform(test_predictions)\n",
    "test_nonscaled_predictions = test_nonscaled_predictions.flatten()"
   ]
  },
  {
   "cell_type": "markdown",
   "id": "747b3d52-31d3-4c6d-93f3-e97395c86c04",
   "metadata": {},
   "source": [
    "## </h2><font size=\"4\">\n",
    "**2.5 Evaluate the Model and Visualize the Predictions**"
   ]
  },
  {
   "cell_type": "code",
   "execution_count": 27,
   "id": "a2f31306-c09c-42e1-b318-491f1ead703a",
   "metadata": {},
   "outputs": [],
   "source": [
    "#Create the df to store predicted data and real world data\n",
    "test_df = test"
   ]
  },
  {
   "cell_type": "code",
   "execution_count": 28,
   "id": "111f7d4e-e15e-495a-b73d-9e51aaa8d67f",
   "metadata": {},
   "outputs": [
    {
     "name": "stderr",
     "output_type": "stream",
     "text": [
      "C:\\Users\\10788\\AppData\\Local\\Temp\\ipykernel_4252\\1568353863.py:2: SettingWithCopyWarning: \n",
      "A value is trying to be set on a copy of a slice from a DataFrame.\n",
      "Try using .loc[row_indexer,col_indexer] = value instead\n",
      "\n",
      "See the caveats in the documentation: https://pandas.pydata.org/pandas-docs/stable/user_guide/indexing.html#returning-a-view-versus-a-copy\n",
      "  test_df['Predictions'] = test_nonscaled_predictions\n"
     ]
    }
   ],
   "source": [
    "#add new columns to df\n",
    "test_df['Predictions'] = test_nonscaled_predictions"
   ]
  },
  {
   "cell_type": "code",
   "execution_count": 29,
   "id": "fb834ed7-a2ab-4d28-84fc-c2f2c88bc5ba",
   "metadata": {},
   "outputs": [
    {
     "data": {
      "text/html": [
       "<div>\n",
       "<style scoped>\n",
       "    .dataframe tbody tr th:only-of-type {\n",
       "        vertical-align: middle;\n",
       "    }\n",
       "\n",
       "    .dataframe tbody tr th {\n",
       "        vertical-align: top;\n",
       "    }\n",
       "\n",
       "    .dataframe thead th {\n",
       "        text-align: right;\n",
       "    }\n",
       "</style>\n",
       "<table border=\"1\" class=\"dataframe\">\n",
       "  <thead>\n",
       "    <tr style=\"text-align: right;\">\n",
       "      <th></th>\n",
       "      <th>stock</th>\n",
       "      <th>Predictions</th>\n",
       "    </tr>\n",
       "    <tr>\n",
       "      <th>Date</th>\n",
       "      <th></th>\n",
       "      <th></th>\n",
       "    </tr>\n",
       "  </thead>\n",
       "  <tbody>\n",
       "    <tr>\n",
       "      <th>2021-06-01</th>\n",
       "      <td>62.255001</td>\n",
       "      <td>48.594390</td>\n",
       "    </tr>\n",
       "    <tr>\n",
       "      <th>2021-06-02</th>\n",
       "      <td>70.559998</td>\n",
       "      <td>41.323241</td>\n",
       "    </tr>\n",
       "    <tr>\n",
       "      <th>2021-06-03</th>\n",
       "      <td>64.544998</td>\n",
       "      <td>39.018833</td>\n",
       "    </tr>\n",
       "    <tr>\n",
       "      <th>2021-06-04</th>\n",
       "      <td>62.090000</td>\n",
       "      <td>39.075792</td>\n",
       "    </tr>\n",
       "    <tr>\n",
       "      <th>2021-06-07</th>\n",
       "      <td>70.002502</td>\n",
       "      <td>40.850156</td>\n",
       "    </tr>\n",
       "  </tbody>\n",
       "</table>\n",
       "</div>"
      ],
      "text/plain": [
       "                stock  Predictions\n",
       "Date                              \n",
       "2021-06-01  62.255001    48.594390\n",
       "2021-06-02  70.559998    41.323241\n",
       "2021-06-03  64.544998    39.018833\n",
       "2021-06-04  62.090000    39.075792\n",
       "2021-06-07  70.002502    40.850156"
      ]
     },
     "execution_count": 29,
     "metadata": {},
     "output_type": "execute_result"
    }
   ],
   "source": [
    "test_df.head()"
   ]
  },
  {
   "cell_type": "code",
   "execution_count": 30,
   "id": "eafb48e8-9b0c-417d-ba52-ab9617a17da2",
   "metadata": {},
   "outputs": [
    {
     "data": {
      "text/plain": [
       "(9.33544460702209, 158.12785913873134, 12.574890024915977)"
      ]
     },
     "execution_count": 30,
     "metadata": {},
     "output_type": "execute_result"
    }
   ],
   "source": [
    "#Evaluate the model using MAE, MSE, MRE\n",
    "from sklearn import metrics\n",
    "MAE = metrics.mean_absolute_error(test_df['stock'],test_df['Predictions'])\n",
    "MSE = metrics.mean_squared_error(test_df['stock'],test_df['Predictions'])\n",
    "MRE = np.sqrt(MSE)\n",
    "MAE,MSE,MRE"
   ]
  },
  {
   "cell_type": "code",
   "execution_count": 31,
   "id": "08854bd3-0288-4044-87b3-a1629cc8b2b4",
   "metadata": {},
   "outputs": [
    {
     "data": {
      "text/html": [
       "<div>\n",
       "<style scoped>\n",
       "    .dataframe tbody tr th:only-of-type {\n",
       "        vertical-align: middle;\n",
       "    }\n",
       "\n",
       "    .dataframe tbody tr th {\n",
       "        vertical-align: top;\n",
       "    }\n",
       "\n",
       "    .dataframe thead th {\n",
       "        text-align: right;\n",
       "    }\n",
       "</style>\n",
       "<table border=\"1\" class=\"dataframe\">\n",
       "  <thead>\n",
       "    <tr style=\"text-align: right;\">\n",
       "      <th></th>\n",
       "      <th>stock</th>\n",
       "      <th>Predictions</th>\n",
       "    </tr>\n",
       "  </thead>\n",
       "  <tbody>\n",
       "    <tr>\n",
       "      <th>count</th>\n",
       "      <td>65.000000</td>\n",
       "      <td>65.000000</td>\n",
       "    </tr>\n",
       "    <tr>\n",
       "      <th>mean</th>\n",
       "      <td>49.161961</td>\n",
       "      <td>40.931311</td>\n",
       "    </tr>\n",
       "    <tr>\n",
       "      <th>std</th>\n",
       "      <td>9.170583</td>\n",
       "      <td>2.852232</td>\n",
       "    </tr>\n",
       "    <tr>\n",
       "      <th>min</th>\n",
       "      <td>36.700001</td>\n",
       "      <td>35.635252</td>\n",
       "    </tr>\n",
       "    <tr>\n",
       "      <th>25%</th>\n",
       "      <td>41.215000</td>\n",
       "      <td>38.844463</td>\n",
       "    </tr>\n",
       "    <tr>\n",
       "      <th>50%</th>\n",
       "      <td>47.807499</td>\n",
       "      <td>40.364930</td>\n",
       "    </tr>\n",
       "    <tr>\n",
       "      <th>75%</th>\n",
       "      <td>53.535000</td>\n",
       "      <td>43.352251</td>\n",
       "    </tr>\n",
       "    <tr>\n",
       "      <th>max</th>\n",
       "      <td>75.639999</td>\n",
       "      <td>48.594390</td>\n",
       "    </tr>\n",
       "  </tbody>\n",
       "</table>\n",
       "</div>"
      ],
      "text/plain": [
       "           stock  Predictions\n",
       "count  65.000000    65.000000\n",
       "mean   49.161961    40.931311\n",
       "std     9.170583     2.852232\n",
       "min    36.700001    35.635252\n",
       "25%    41.215000    38.844463\n",
       "50%    47.807499    40.364930\n",
       "75%    53.535000    43.352251\n",
       "max    75.639999    48.594390"
      ]
     },
     "execution_count": 31,
     "metadata": {},
     "output_type": "execute_result"
    }
   ],
   "source": [
    "test_df.describe()"
   ]
  },
  {
   "cell_type": "code",
   "execution_count": 32,
   "id": "a1e79451-34b8-4853-99f3-acaaa347eddd",
   "metadata": {},
   "outputs": [
    {
     "data": {
      "text/plain": [
       "<Figure size 1500x700 with 0 Axes>"
      ]
     },
     "metadata": {},
     "output_type": "display_data"
    },
    {
     "data": {
      "image/png": "[encoded data removed]",
      "text/plain": [
       "<Figure size 1000x600 with 1 Axes>"
      ]
     },
     "metadata": {},
     "output_type": "display_data"
    }
   ],
   "source": [
    "# Plot the time-series data\n",
    "# Setting the plot size for better readability\n",
    "plt.figure(figsize=(15, 7))\n",
    "\n",
    "# Plotting \n",
    "test_df.plot(figsize=(10,6))\n",
    "\n",
    "# Adding title and labels with font size adjustments\n",
    "plt.title('Actual Closing Prices vs Predicted Closing Prices', fontsize=16)\n",
    "plt.xlabel('Date', fontsize=14)\n",
    "plt.ylabel('Closing Price', fontsize=20)\n",
    "\n",
    "#Set the date format\n",
    "plt.gca().xaxis.set_major_formatter(mdates.DateFormatter('%Y-%m-%d')) \n",
    "\n",
    "#Set the x-axis interval to be one month\n",
    "plt.gca().xaxis.set_major_locator(mdates.DayLocator(interval=5)) \n",
    "\n",
    "# Rotating date labels for better visibility\n",
    "plt.xticks(rotation=45)\n",
    "\n",
    "# Adding a legend to distinguish the actual values\n",
    "plt.legend()\n",
    "\n",
    "# Display the plot\n",
    "plt.tight_layout()\n",
    "plt.show()"
   ]
  },
  {
   "cell_type": "markdown",
   "id": "3093bae1-a525-4fb9-82b7-580385c87569",
   "metadata": {},
   "source": [
    "## </h2><font size=\"4\">\n",
    "**2.6 Conclusion**"
   ]
  },
  {
   "cell_type": "markdown",
   "id": "7edda738-1abc-456b-8594-6cd7a63173c9",
   "metadata": {},
   "source": [
    "1. Real world stock price higher than the predictions: June, July, second-half of August\n",
    "Real-world stock price lower than the predictions: second-half late July, first-half of August\n",
    "2. The data in June has a significant difference between real data and predictions. That might be because the past 15-day data is stable and there might be some promotions or marketing activities that attract more stakeholders. This is not due to the trends so there must be some other factors influencing the stock. So it is crucial to add in the sentiment score to drag the predictions up.\n",
    "3. The data during 7-15~8-20 seems more accurate than other durations. It might due to the stableness of past day stock price and there are no more other external factors influencing more about the predictions.\n",
    "4. See MRE, it is around 11.89, and for this case, the real-world data's sd is 9.17, and the prediction is 1.18, greater than both sd, so it means that my model does not predict the actual data well. Since the stock market is very changeable and there are many factors influencing it it is hard to predict the data very accurately. Plus, the standard deviations of predictions and actual price are also very different, meaning the model does not consider any other influential factors as well.\n"
   ]
  },
  {
   "cell_type": "markdown",
   "id": "d6298885-a802-4b5a-8d32-66f380b41e9d",
   "metadata": {
    "jp-MarkdownHeadingCollapsed": true
   },
   "source": [
    "# </h1><font size=\"6\">\n",
    "**Section 3. Model Confusion**"
   ]
  },
  {
   "cell_type": "markdown",
   "id": "3299ed90-632d-4ede-8313-f727d193362e",
   "metadata": {},
   "source": [
    "Note：I just add compound variable as a feature in my previous LSTM model to make the model more fittable."
   ]
  },
  {
   "cell_type": "markdown",
   "id": "ff7d2b33-f2e9-4cac-90eb-f1577b3e78c9",
   "metadata": {
    "jp-MarkdownHeadingCollapsed": true
   },
   "source": [
    "## </h2><font size=\"4\">\n",
    "**3.1 Train the Model**"
   ]
  },
  {
   "cell_type": "code",
   "execution_count": 33,
   "id": "940936b0-ba86-4c5c-b99c-12d21f7e816d",
   "metadata": {},
   "outputs": [],
   "source": [
    "#Train test split\n",
    "train_merged = merged_df.iloc[:90]\n",
    "test_merged =merged_df.iloc[90:]"
   ]
  },
  {
   "cell_type": "code",
   "execution_count": 34,
   "id": "0d2185bc-496c-4765-a5af-d930956bb4f6",
   "metadata": {},
   "outputs": [
    {
     "data": {
      "text/html": [
       "<div>\n",
       "<style scoped>\n",
       "    .dataframe tbody tr th:only-of-type {\n",
       "        vertical-align: middle;\n",
       "    }\n",
       "\n",
       "    .dataframe tbody tr th {\n",
       "        vertical-align: top;\n",
       "    }\n",
       "\n",
       "    .dataframe thead th {\n",
       "        text-align: right;\n",
       "    }\n",
       "</style>\n",
       "<table border=\"1\" class=\"dataframe\">\n",
       "  <thead>\n",
       "    <tr style=\"text-align: right;\">\n",
       "      <th></th>\n",
       "      <th>compound</th>\n",
       "      <th>stock</th>\n",
       "    </tr>\n",
       "    <tr>\n",
       "      <th>date</th>\n",
       "      <th></th>\n",
       "      <th></th>\n",
       "    </tr>\n",
       "  </thead>\n",
       "  <tbody>\n",
       "    <tr>\n",
       "      <th>2021-06-01</th>\n",
       "      <td>0.176447</td>\n",
       "      <td>62.255001</td>\n",
       "    </tr>\n",
       "    <tr>\n",
       "      <th>2021-06-02</th>\n",
       "      <td>0.135441</td>\n",
       "      <td>70.559998</td>\n",
       "    </tr>\n",
       "    <tr>\n",
       "      <th>2021-06-03</th>\n",
       "      <td>0.167384</td>\n",
       "      <td>64.544998</td>\n",
       "    </tr>\n",
       "    <tr>\n",
       "      <th>2021-06-04</th>\n",
       "      <td>0.193930</td>\n",
       "      <td>62.090000</td>\n",
       "    </tr>\n",
       "    <tr>\n",
       "      <th>2021-06-07</th>\n",
       "      <td>0.128329</td>\n",
       "      <td>70.002502</td>\n",
       "    </tr>\n",
       "    <tr>\n",
       "      <th>...</th>\n",
       "      <td>...</td>\n",
       "      <td>...</td>\n",
       "    </tr>\n",
       "    <tr>\n",
       "      <th>2021-08-25</th>\n",
       "      <td>0.133748</td>\n",
       "      <td>49.912498</td>\n",
       "    </tr>\n",
       "    <tr>\n",
       "      <th>2021-08-26</th>\n",
       "      <td>0.121672</td>\n",
       "      <td>51.305000</td>\n",
       "    </tr>\n",
       "    <tr>\n",
       "      <th>2021-08-27</th>\n",
       "      <td>0.136975</td>\n",
       "      <td>51.237499</td>\n",
       "    </tr>\n",
       "    <tr>\n",
       "      <th>2021-08-30</th>\n",
       "      <td>0.123952</td>\n",
       "      <td>52.299999</td>\n",
       "    </tr>\n",
       "    <tr>\n",
       "      <th>2021-08-31</th>\n",
       "      <td>0.116128</td>\n",
       "      <td>54.560001</td>\n",
       "    </tr>\n",
       "  </tbody>\n",
       "</table>\n",
       "<p>65 rows × 2 columns</p>\n",
       "</div>"
      ],
      "text/plain": [
       "            compound      stock\n",
       "date                           \n",
       "2021-06-01  0.176447  62.255001\n",
       "2021-06-02  0.135441  70.559998\n",
       "2021-06-03  0.167384  64.544998\n",
       "2021-06-04  0.193930  62.090000\n",
       "2021-06-07  0.128329  70.002502\n",
       "...              ...        ...\n",
       "2021-08-25  0.133748  49.912498\n",
       "2021-08-26  0.121672  51.305000\n",
       "2021-08-27  0.136975  51.237499\n",
       "2021-08-30  0.123952  52.299999\n",
       "2021-08-31  0.116128  54.560001\n",
       "\n",
       "[65 rows x 2 columns]"
      ]
     },
     "execution_count": 34,
     "metadata": {},
     "output_type": "execute_result"
    }
   ],
   "source": [
    "test_merged"
   ]
  },
  {
   "cell_type": "code",
   "execution_count": 35,
   "id": "59e75356-3088-46e6-96b3-19fc5de6badc",
   "metadata": {},
   "outputs": [],
   "source": [
    "#change to numpy format\n",
    "values = train_merged[['compound', 'stock']].values\n",
    "values_test = test_merged[['compound', 'stock']].values"
   ]
  },
  {
   "cell_type": "code",
   "execution_count": 36,
   "id": "bafb973d-c561-48bf-9e62-09d04d2bba1d",
   "metadata": {},
   "outputs": [],
   "source": [
    "# Scale the data\n",
    "scaler = MinMaxScaler(feature_range=(0, 1))\n",
    "scaled = scaler.fit_transform(values)\n",
    "scaled_test = scaler.transform(values_test)"
   ]
  },
  {
   "cell_type": "code",
   "execution_count": 37,
   "id": "a6da094c-df92-4249-9887-6543a1cf70f3",
   "metadata": {},
   "outputs": [],
   "source": [
    "# Define the input sequence length\n",
    "input_n = 15\n",
    "n_features = 2 # add another feature--score"
   ]
  },
  {
   "cell_type": "code",
   "execution_count": 38,
   "id": "ab0dd0a3-710d-40dd-a67d-3942d033d917",
   "metadata": {},
   "outputs": [],
   "source": [
    "# Reshape the data to be [samples, time steps, features]\n",
    "#guided by chatgpt, see detailed as attached\n",
    "generator_train = TimeseriesGenerator(scaled, scaled[:, 1], length=input_n, batch_size=1)\n",
    "generator_test = TimeseriesGenerator(scaled_test, scaled_test[:, 1], length=input_n, batch_size=1)"
   ]
  },
  {
   "cell_type": "code",
   "execution_count": 39,
   "id": "4fb55b37-6d39-49ab-b542-1c525c76dcfb",
   "metadata": {},
   "outputs": [
    {
     "name": "stdout",
     "output_type": "stream",
     "text": [
      "Model: \"sequential_1\"\n",
      "_________________________________________________________________\n",
      " Layer (type)                Output Shape              Param #   \n",
      "=================================================================\n",
      " lstm_1 (LSTM)               (None, 150)               91800     \n",
      "                                                                 \n",
      " dense_1 (Dense)             (None, 1)                 151       \n",
      "                                                                 \n",
      "=================================================================\n",
      "Total params: 91951 (359.18 KB)\n",
      "Trainable params: 91951 (359.18 KB)\n",
      "Non-trainable params: 0 (0.00 Byte)\n",
      "_________________________________________________________________\n",
      "Epoch 1/200\n"
     ]
    },
    {
     "name": "stderr",
     "output_type": "stream",
     "text": [
      "C:\\Users\\10788\\AppData\\Local\\Temp\\ipykernel_4252\\1893851366.py:12: UserWarning: `Model.fit_generator` is deprecated and will be removed in a future version. Please use `Model.fit`, which supports generators.\n",
      "  model.fit_generator(generator_train, epochs=200)\n"
     ]
    },
    {
     "name": "stdout",
     "output_type": "stream",
     "text": [
      "75/75 [==============================] - 2s 5ms/step - loss: 0.0505\n",
      "Epoch 2/200\n",
      "75/75 [==============================] - 0s 5ms/step - loss: 0.0230\n",
      "Epoch 3/200\n",
      "75/75 [==============================] - 0s 5ms/step - loss: 0.0199\n",
      "Epoch 4/200\n",
      "75/75 [==============================] - 0s 6ms/step - loss: 0.0168\n",
      "Epoch 5/200\n",
      "75/75 [==============================] - 0s 5ms/step - loss: 0.0158\n",
      "Epoch 6/200\n",
      "75/75 [==============================] - 0s 5ms/step - loss: 0.0126\n",
      "Epoch 7/200\n",
      "75/75 [==============================] - 0s 6ms/step - loss: 0.0127\n",
      "Epoch 8/200\n",
      "75/75 [==============================] - 0s 5ms/step - loss: 0.0115\n",
      "Epoch 9/200\n",
      "75/75 [==============================] - 0s 5ms/step - loss: 0.0109\n",
      "Epoch 10/200\n",
      "75/75 [==============================] - 0s 5ms/step - loss: 0.0104\n",
      "Epoch 11/200\n",
      "75/75 [==============================] - 0s 5ms/step - loss: 0.0091\n",
      "Epoch 12/200\n",
      "75/75 [==============================] - 0s 6ms/step - loss: 0.0087\n",
      "Epoch 13/200\n",
      "75/75 [==============================] - 0s 5ms/step - loss: 0.0098\n",
      "Epoch 14/200\n",
      "75/75 [==============================] - 0s 5ms/step - loss: 0.0080\n",
      "Epoch 15/200\n",
      "75/75 [==============================] - 0s 5ms/step - loss: 0.0070\n",
      "Epoch 16/200\n",
      "75/75 [==============================] - 0s 5ms/step - loss: 0.0065\n",
      "Epoch 17/200\n",
      "75/75 [==============================] - 0s 6ms/step - loss: 0.0091\n",
      "Epoch 18/200\n",
      "75/75 [==============================] - 0s 5ms/step - loss: 0.0061\n",
      "Epoch 19/200\n",
      "75/75 [==============================] - 0s 5ms/step - loss: 0.0067\n",
      "Epoch 20/200\n",
      "75/75 [==============================] - 0s 6ms/step - loss: 0.0074\n",
      "Epoch 21/200\n",
      "75/75 [==============================] - 0s 5ms/step - loss: 0.0056\n",
      "Epoch 22/200\n",
      "75/75 [==============================] - 0s 5ms/step - loss: 0.0052\n",
      "Epoch 23/200\n",
      "75/75 [==============================] - 0s 6ms/step - loss: 0.0050\n",
      "Epoch 24/200\n",
      "75/75 [==============================] - 0s 5ms/step - loss: 0.0050\n",
      "Epoch 25/200\n",
      "75/75 [==============================] - 0s 5ms/step - loss: 0.0052\n",
      "Epoch 26/200\n",
      "75/75 [==============================] - 0s 6ms/step - loss: 0.0055\n",
      "Epoch 27/200\n",
      "75/75 [==============================] - 0s 5ms/step - loss: 0.0054\n",
      "Epoch 28/200\n",
      "75/75 [==============================] - 0s 6ms/step - loss: 0.0040\n",
      "Epoch 29/200\n",
      "75/75 [==============================] - 0s 5ms/step - loss: 0.0038\n",
      "Epoch 30/200\n",
      "75/75 [==============================] - 0s 5ms/step - loss: 0.0035\n",
      "Epoch 31/200\n",
      "75/75 [==============================] - 0s 6ms/step - loss: 0.0032\n",
      "Epoch 32/200\n",
      "75/75 [==============================] - 0s 5ms/step - loss: 0.0032\n",
      "Epoch 33/200\n",
      "75/75 [==============================] - 0s 6ms/step - loss: 0.0029\n",
      "Epoch 34/200\n",
      "75/75 [==============================] - 0s 5ms/step - loss: 0.0028\n",
      "Epoch 35/200\n",
      "75/75 [==============================] - 0s 5ms/step - loss: 0.0023\n",
      "Epoch 36/200\n",
      "75/75 [==============================] - 0s 6ms/step - loss: 0.0025\n",
      "Epoch 37/200\n",
      "75/75 [==============================] - 0s 5ms/step - loss: 0.0026\n",
      "Epoch 38/200\n",
      "75/75 [==============================] - 0s 5ms/step - loss: 0.0023\n",
      "Epoch 39/200\n",
      "75/75 [==============================] - 0s 6ms/step - loss: 0.0024\n",
      "Epoch 40/200\n",
      "75/75 [==============================] - 0s 5ms/step - loss: 0.0024\n",
      "Epoch 41/200\n",
      "75/75 [==============================] - 0s 5ms/step - loss: 0.0028\n",
      "Epoch 42/200\n",
      "75/75 [==============================] - 0s 5ms/step - loss: 0.0036\n",
      "Epoch 43/200\n",
      "75/75 [==============================] - 0s 6ms/step - loss: 0.0025\n",
      "Epoch 44/200\n",
      "75/75 [==============================] - 0s 5ms/step - loss: 0.0019\n",
      "Epoch 45/200\n",
      "75/75 [==============================] - 0s 6ms/step - loss: 0.0020\n",
      "Epoch 46/200\n",
      "75/75 [==============================] - 0s 5ms/step - loss: 0.0021\n",
      "Epoch 47/200\n",
      "75/75 [==============================] - 0s 5ms/step - loss: 0.0022\n",
      "Epoch 48/200\n",
      "75/75 [==============================] - 0s 6ms/step - loss: 0.0031\n",
      "Epoch 49/200\n",
      "75/75 [==============================] - 0s 6ms/step - loss: 0.0024\n",
      "Epoch 50/200\n",
      "75/75 [==============================] - 0s 5ms/step - loss: 0.0022\n",
      "Epoch 51/200\n",
      "75/75 [==============================] - 0s 6ms/step - loss: 0.0023\n",
      "Epoch 52/200\n",
      "75/75 [==============================] - 0s 5ms/step - loss: 0.0022\n",
      "Epoch 53/200\n",
      "75/75 [==============================] - 0s 5ms/step - loss: 0.0021\n",
      "Epoch 54/200\n",
      "75/75 [==============================] - 1s 7ms/step - loss: 0.0023\n",
      "Epoch 55/200\n",
      "75/75 [==============================] - 0s 5ms/step - loss: 0.0018\n",
      "Epoch 56/200\n",
      "75/75 [==============================] - 0s 5ms/step - loss: 0.0024\n",
      "Epoch 57/200\n",
      "75/75 [==============================] - 0s 6ms/step - loss: 0.0021\n",
      "Epoch 58/200\n",
      "75/75 [==============================] - 0s 5ms/step - loss: 0.0019\n",
      "Epoch 59/200\n",
      "75/75 [==============================] - 0s 5ms/step - loss: 0.0018\n",
      "Epoch 60/200\n",
      "75/75 [==============================] - 0s 5ms/step - loss: 0.0021\n",
      "Epoch 61/200\n",
      "75/75 [==============================] - 0s 5ms/step - loss: 0.0021\n",
      "Epoch 62/200\n",
      "75/75 [==============================] - 0s 5ms/step - loss: 0.0021\n",
      "Epoch 63/200\n",
      "75/75 [==============================] - 0s 5ms/step - loss: 0.0017\n",
      "Epoch 64/200\n",
      "75/75 [==============================] - 0s 6ms/step - loss: 0.0018\n",
      "Epoch 65/200\n",
      "75/75 [==============================] - 0s 5ms/step - loss: 0.0018\n",
      "Epoch 66/200\n",
      "75/75 [==============================] - 0s 6ms/step - loss: 0.0025\n",
      "Epoch 67/200\n",
      "75/75 [==============================] - 0s 5ms/step - loss: 0.0024\n",
      "Epoch 68/200\n",
      "75/75 [==============================] - 0s 5ms/step - loss: 0.0021\n",
      "Epoch 69/200\n",
      "75/75 [==============================] - 0s 6ms/step - loss: 0.0021\n",
      "Epoch 70/200\n",
      "75/75 [==============================] - 0s 5ms/step - loss: 0.0020\n",
      "Epoch 71/200\n",
      "75/75 [==============================] - 0s 5ms/step - loss: 0.0023\n",
      "Epoch 72/200\n",
      "75/75 [==============================] - 0s 5ms/step - loss: 0.0017\n",
      "Epoch 73/200\n",
      "75/75 [==============================] - 0s 5ms/step - loss: 0.0017\n",
      "Epoch 74/200\n",
      "75/75 [==============================] - 0s 5ms/step - loss: 0.0019\n",
      "Epoch 75/200\n",
      "75/75 [==============================] - 0s 6ms/step - loss: 0.0017\n",
      "Epoch 76/200\n",
      "75/75 [==============================] - 0s 5ms/step - loss: 0.0020\n",
      "Epoch 77/200\n",
      "75/75 [==============================] - 1s 7ms/step - loss: 0.0015\n",
      "Epoch 78/200\n",
      "75/75 [==============================] - 0s 5ms/step - loss: 0.0020\n",
      "Epoch 79/200\n",
      "75/75 [==============================] - 0s 6ms/step - loss: 0.0035\n",
      "Epoch 80/200\n",
      "75/75 [==============================] - 0s 6ms/step - loss: 0.0023\n",
      "Epoch 81/200\n",
      "75/75 [==============================] - 0s 6ms/step - loss: 0.0023\n",
      "Epoch 82/200\n",
      "75/75 [==============================] - 0s 5ms/step - loss: 0.0017\n",
      "Epoch 83/200\n",
      "75/75 [==============================] - 0s 5ms/step - loss: 0.0015\n",
      "Epoch 84/200\n",
      "75/75 [==============================] - 0s 6ms/step - loss: 0.0016\n",
      "Epoch 85/200\n",
      "75/75 [==============================] - 0s 5ms/step - loss: 0.0015\n",
      "Epoch 86/200\n",
      "75/75 [==============================] - 0s 6ms/step - loss: 0.0015\n",
      "Epoch 87/200\n",
      "75/75 [==============================] - 0s 6ms/step - loss: 0.0017\n",
      "Epoch 88/200\n",
      "75/75 [==============================] - 0s 5ms/step - loss: 0.0016\n",
      "Epoch 89/200\n",
      "75/75 [==============================] - 0s 6ms/step - loss: 0.0014\n",
      "Epoch 90/200\n",
      "75/75 [==============================] - 0s 5ms/step - loss: 0.0016\n",
      "Epoch 91/200\n",
      "75/75 [==============================] - 0s 5ms/step - loss: 0.0013\n",
      "Epoch 92/200\n",
      "75/75 [==============================] - 0s 6ms/step - loss: 0.0014\n",
      "Epoch 93/200\n",
      "75/75 [==============================] - 0s 5ms/step - loss: 0.0024\n",
      "Epoch 94/200\n",
      "75/75 [==============================] - 0s 5ms/step - loss: 0.0019\n",
      "Epoch 95/200\n",
      "75/75 [==============================] - 1s 7ms/step - loss: 0.0017\n",
      "Epoch 96/200\n",
      "75/75 [==============================] - 0s 5ms/step - loss: 0.0013\n",
      "Epoch 97/200\n",
      "75/75 [==============================] - 0s 6ms/step - loss: 0.0013\n",
      "Epoch 98/200\n",
      "75/75 [==============================] - 0s 5ms/step - loss: 0.0014\n",
      "Epoch 99/200\n",
      "75/75 [==============================] - 0s 6ms/step - loss: 0.0013\n",
      "Epoch 100/200\n",
      "75/75 [==============================] - 0s 5ms/step - loss: 0.0015\n",
      "Epoch 101/200\n",
      "75/75 [==============================] - 0s 5ms/step - loss: 0.0013\n",
      "Epoch 102/200\n",
      "75/75 [==============================] - 0s 6ms/step - loss: 0.0014\n",
      "Epoch 103/200\n",
      "75/75 [==============================] - 0s 5ms/step - loss: 0.0016\n",
      "Epoch 104/200\n",
      "75/75 [==============================] - 0s 5ms/step - loss: 0.0016\n",
      "Epoch 105/200\n",
      "75/75 [==============================] - 1s 7ms/step - loss: 0.0015\n",
      "Epoch 106/200\n",
      "75/75 [==============================] - 1s 11ms/step - loss: 0.0014\n",
      "Epoch 107/200\n",
      "75/75 [==============================] - 1s 8ms/step - loss: 0.0012\n",
      "Epoch 108/200\n",
      "75/75 [==============================] - 0s 6ms/step - loss: 0.0012\n",
      "Epoch 109/200\n",
      "75/75 [==============================] - 0s 6ms/step - loss: 0.0010\n",
      "Epoch 110/200\n",
      "75/75 [==============================] - 0s 5ms/step - loss: 0.0011\n",
      "Epoch 111/200\n",
      "75/75 [==============================] - 0s 6ms/step - loss: 9.1286e-04\n",
      "Epoch 112/200\n",
      "75/75 [==============================] - 0s 6ms/step - loss: 0.0012\n",
      "Epoch 113/200\n",
      "75/75 [==============================] - 0s 5ms/step - loss: 0.0012\n",
      "Epoch 114/200\n",
      "75/75 [==============================] - 0s 6ms/step - loss: 0.0012\n",
      "Epoch 115/200\n",
      "75/75 [==============================] - 0s 6ms/step - loss: 0.0010\n",
      "Epoch 116/200\n",
      "75/75 [==============================] - 0s 5ms/step - loss: 0.0012\n",
      "Epoch 117/200\n",
      "75/75 [==============================] - 0s 6ms/step - loss: 0.0014\n",
      "Epoch 118/200\n",
      "75/75 [==============================] - 0s 6ms/step - loss: 0.0015\n",
      "Epoch 119/200\n",
      "75/75 [==============================] - 0s 5ms/step - loss: 0.0012\n",
      "Epoch 120/200\n",
      "75/75 [==============================] - 0s 5ms/step - loss: 0.0014\n",
      "Epoch 121/200\n",
      "75/75 [==============================] - 0s 6ms/step - loss: 0.0016\n",
      "Epoch 122/200\n",
      "75/75 [==============================] - 0s 5ms/step - loss: 0.0016\n",
      "Epoch 123/200\n",
      "75/75 [==============================] - 0s 5ms/step - loss: 0.0013\n",
      "Epoch 124/200\n",
      "75/75 [==============================] - 0s 6ms/step - loss: 0.0012\n",
      "Epoch 125/200\n",
      "75/75 [==============================] - 0s 5ms/step - loss: 8.2420e-04\n",
      "Epoch 126/200\n",
      "75/75 [==============================] - 0s 5ms/step - loss: 0.0011\n",
      "Epoch 127/200\n",
      "75/75 [==============================] - 0s 6ms/step - loss: 0.0012\n",
      "Epoch 128/200\n",
      "75/75 [==============================] - 0s 5ms/step - loss: 8.7907e-04\n",
      "Epoch 129/200\n",
      "75/75 [==============================] - 0s 5ms/step - loss: 0.0011\n",
      "Epoch 130/200\n",
      "75/75 [==============================] - 0s 5ms/step - loss: 0.0010\n",
      "Epoch 131/200\n",
      "75/75 [==============================] - 0s 6ms/step - loss: 0.0016\n",
      "Epoch 132/200\n",
      "75/75 [==============================] - 0s 5ms/step - loss: 9.5786e-04\n",
      "Epoch 133/200\n",
      "75/75 [==============================] - 0s 6ms/step - loss: 8.0478e-04\n",
      "Epoch 134/200\n",
      "75/75 [==============================] - 0s 5ms/step - loss: 0.0012\n",
      "Epoch 135/200\n",
      "75/75 [==============================] - 0s 5ms/step - loss: 0.0022\n",
      "Epoch 136/200\n",
      "75/75 [==============================] - 0s 6ms/step - loss: 0.0012\n",
      "Epoch 137/200\n",
      "75/75 [==============================] - 0s 5ms/step - loss: 0.0015\n",
      "Epoch 138/200\n",
      "75/75 [==============================] - 0s 5ms/step - loss: 9.3813e-04\n",
      "Epoch 139/200\n",
      "75/75 [==============================] - 0s 6ms/step - loss: 0.0011\n",
      "Epoch 140/200\n",
      "75/75 [==============================] - 0s 5ms/step - loss: 0.0014\n",
      "Epoch 141/200\n",
      "75/75 [==============================] - 0s 5ms/step - loss: 9.1628e-04\n",
      "Epoch 142/200\n",
      "75/75 [==============================] - 0s 6ms/step - loss: 9.8734e-04\n",
      "Epoch 143/200\n",
      "75/75 [==============================] - 0s 5ms/step - loss: 0.0010\n",
      "Epoch 144/200\n",
      "75/75 [==============================] - 0s 5ms/step - loss: 8.5820e-04\n",
      "Epoch 145/200\n",
      "75/75 [==============================] - 0s 6ms/step - loss: 7.5509e-04\n",
      "Epoch 146/200\n",
      "75/75 [==============================] - 0s 6ms/step - loss: 0.0012\n",
      "Epoch 147/200\n",
      "75/75 [==============================] - 0s 5ms/step - loss: 0.0012\n",
      "Epoch 148/200\n",
      "75/75 [==============================] - 1s 7ms/step - loss: 8.1379e-04\n",
      "Epoch 149/200\n",
      "75/75 [==============================] - 0s 5ms/step - loss: 9.6427e-04\n",
      "Epoch 150/200\n",
      "75/75 [==============================] - 0s 5ms/step - loss: 0.0010\n",
      "Epoch 151/200\n",
      "75/75 [==============================] - 0s 6ms/step - loss: 9.8767e-04\n",
      "Epoch 152/200\n",
      "75/75 [==============================] - 0s 5ms/step - loss: 9.8480e-04\n",
      "Epoch 153/200\n",
      "75/75 [==============================] - 0s 5ms/step - loss: 8.7036e-04\n",
      "Epoch 154/200\n",
      "75/75 [==============================] - 0s 6ms/step - loss: 9.5051e-04\n",
      "Epoch 155/200\n",
      "75/75 [==============================] - 0s 5ms/step - loss: 8.7050e-04\n",
      "Epoch 156/200\n",
      "75/75 [==============================] - 0s 5ms/step - loss: 0.0011\n",
      "Epoch 157/200\n",
      "75/75 [==============================] - 0s 6ms/step - loss: 9.1782e-04\n",
      "Epoch 158/200\n",
      "75/75 [==============================] - 0s 5ms/step - loss: 0.0011\n",
      "Epoch 159/200\n",
      "75/75 [==============================] - 0s 5ms/step - loss: 0.0011\n",
      "Epoch 160/200\n",
      "75/75 [==============================] - 0s 6ms/step - loss: 0.0013\n",
      "Epoch 161/200\n",
      "75/75 [==============================] - 0s 5ms/step - loss: 0.0013\n",
      "Epoch 162/200\n",
      "75/75 [==============================] - 0s 6ms/step - loss: 8.1840e-04\n",
      "Epoch 163/200\n",
      "75/75 [==============================] - 0s 5ms/step - loss: 0.0011\n",
      "Epoch 164/200\n",
      "75/75 [==============================] - 0s 5ms/step - loss: 8.9533e-04\n",
      "Epoch 165/200\n",
      "75/75 [==============================] - 0s 6ms/step - loss: 7.6490e-04\n",
      "Epoch 166/200\n",
      "75/75 [==============================] - 0s 5ms/step - loss: 7.0776e-04\n",
      "Epoch 167/200\n",
      "75/75 [==============================] - 0s 5ms/step - loss: 8.6673e-04\n",
      "Epoch 168/200\n",
      "75/75 [==============================] - 0s 6ms/step - loss: 8.1052e-04\n",
      "Epoch 169/200\n",
      "75/75 [==============================] - 0s 5ms/step - loss: 7.6586e-04\n",
      "Epoch 170/200\n",
      "75/75 [==============================] - 0s 5ms/step - loss: 0.0011\n",
      "Epoch 171/200\n",
      "75/75 [==============================] - 0s 6ms/step - loss: 0.0013\n",
      "Epoch 172/200\n",
      "75/75 [==============================] - 0s 5ms/step - loss: 8.3750e-04\n",
      "Epoch 173/200\n",
      "75/75 [==============================] - 0s 5ms/step - loss: 9.8400e-04\n",
      "Epoch 174/200\n",
      "75/75 [==============================] - 0s 6ms/step - loss: 9.0772e-04\n",
      "Epoch 175/200\n",
      "75/75 [==============================] - 0s 5ms/step - loss: 7.8934e-04\n",
      "Epoch 176/200\n",
      "75/75 [==============================] - 0s 5ms/step - loss: 8.0322e-04\n",
      "Epoch 177/200\n",
      "75/75 [==============================] - 0s 5ms/step - loss: 9.2088e-04\n",
      "Epoch 178/200\n",
      "75/75 [==============================] - 0s 5ms/step - loss: 0.0010\n",
      "Epoch 179/200\n",
      "75/75 [==============================] - 0s 5ms/step - loss: 7.3979e-04\n",
      "Epoch 180/200\n",
      "75/75 [==============================] - 0s 5ms/step - loss: 8.1506e-04\n",
      "Epoch 181/200\n",
      "75/75 [==============================] - 0s 6ms/step - loss: 8.2848e-04\n",
      "Epoch 182/200\n",
      "75/75 [==============================] - 0s 5ms/step - loss: 7.3734e-04\n",
      "Epoch 183/200\n",
      "75/75 [==============================] - 0s 6ms/step - loss: 8.1076e-04\n",
      "Epoch 184/200\n",
      "75/75 [==============================] - 0s 5ms/step - loss: 7.8686e-04\n",
      "Epoch 185/200\n",
      "75/75 [==============================] - 0s 5ms/step - loss: 8.0555e-04\n",
      "Epoch 186/200\n",
      "75/75 [==============================] - 0s 6ms/step - loss: 0.0010\n",
      "Epoch 187/200\n",
      "75/75 [==============================] - 0s 5ms/step - loss: 9.5483e-04\n",
      "Epoch 188/200\n",
      "75/75 [==============================] - 0s 5ms/step - loss: 9.3372e-04\n",
      "Epoch 189/200\n",
      "75/75 [==============================] - 1s 7ms/step - loss: 9.3405e-04\n",
      "Epoch 190/200\n",
      "75/75 [==============================] - 0s 6ms/step - loss: 7.2826e-04\n",
      "Epoch 191/200\n",
      "75/75 [==============================] - 0s 6ms/step - loss: 6.1182e-04\n",
      "Epoch 192/200\n",
      "75/75 [==============================] - 0s 5ms/step - loss: 7.2749e-04\n",
      "Epoch 193/200\n",
      "75/75 [==============================] - 0s 5ms/step - loss: 7.0871e-04\n",
      "Epoch 194/200\n",
      "75/75 [==============================] - 0s 6ms/step - loss: 7.5806e-04\n",
      "Epoch 195/200\n",
      "75/75 [==============================] - 0s 6ms/step - loss: 8.4977e-04\n",
      "Epoch 196/200\n",
      "75/75 [==============================] - 0s 5ms/step - loss: 5.6148e-04\n",
      "Epoch 197/200\n",
      "75/75 [==============================] - 0s 6ms/step - loss: 5.4128e-04\n",
      "Epoch 198/200\n",
      "75/75 [==============================] - 0s 5ms/step - loss: 0.0011\n",
      "Epoch 199/200\n",
      "75/75 [==============================] - 0s 5ms/step - loss: 7.2447e-04\n",
      "Epoch 200/200\n",
      "75/75 [==============================] - 1s 7ms/step - loss: 4.8173e-04\n"
     ]
    },
    {
     "data": {
      "text/plain": [
       "<keras.src.callbacks.History at 0x17ea16dbb10>"
      ]
     },
     "execution_count": 39,
     "metadata": {},
     "output_type": "execute_result"
    }
   ],
   "source": [
    "# Guided by chatgpt, details see as attached\n",
    "# Define LSTM model\n",
    "model = Sequential()\n",
    "model.add(LSTM(150, activation='relu', input_shape=(input_n, n_features)))\n",
    "model.add(Dense(1))\n",
    "model.compile(optimizer='adam', loss='mse')\n",
    "\n",
    "# Summary of the model\n",
    "model.summary()\n",
    "\n",
    "# Fit the model\n",
    "model.fit_generator(generator_train, epochs=200)"
   ]
  },
  {
   "cell_type": "code",
   "execution_count": 40,
   "id": "e6b88a4f-31e0-4036-ab6f-f27cb0a3f37a",
   "metadata": {},
   "outputs": [
    {
     "data": {
      "text/plain": [
       "[<matplotlib.lines.Line2D at 0x17ea1724190>]"
      ]
     },
     "execution_count": 40,
     "metadata": {},
     "output_type": "execute_result"
    },
    {
     "data": {
      "image/png": "[encoded data removed]",
      "text/plain": [
       "<Figure size 640x480 with 1 Axes>"
      ]
     },
     "metadata": {},
     "output_type": "display_data"
    }
   ],
   "source": [
    "plt.plot(range(len(model.history.history['loss'])),model.history.history['loss'])"
   ]
  },
  {
   "cell_type": "markdown",
   "id": "7d28a0d2-cb93-438d-8c3d-6e0d446778a2",
   "metadata": {
    "jp-MarkdownHeadingCollapsed": true
   },
   "source": [
    "## </h2><font size=\"4\">\n",
    "**3.2 Predict the Price**"
   ]
  },
  {
   "cell_type": "markdown",
   "id": "0d73a724-27b3-464f-9c98-0f880beee5e7",
   "metadata": {},
   "source": [
    "Note: In this part, I used past 15 days' sentiment score and price to predict the next day. Since the model could automatically predict a score for the next day, so I used the sentiment score obtained in the real-world to replace the predicted score. Since if we want to predict the next day's stock price, we have already know the sentiment score of previous days, so it would be more accurate to do so."
   ]
  },
  {
   "cell_type": "code",
   "execution_count": 41,
   "id": "cc9d9396-e9a7-4df2-98e6-6a082ce47094",
   "metadata": {},
   "outputs": [],
   "source": [
    "# Reference: Udemy course: Python for Time Series Data Analysis,https://www.udemy.com/course/python-for-time-series-data-analysis/learn/lecture/14522130#overview\n",
    "# Guided by chatgpt\n",
    "# Create a list to store predicted data\n",
    "test_predictions = []\n",
    "# Get the last input_n points from the training data\n",
    "first_eval_batch = scaled[-input_n:]\n",
    "# reshape the data format\n",
    "current_batch = first_eval_batch.reshape((1, input_n, n_features))"
   ]
  },
  {
   "cell_type": "code",
   "execution_count": 42,
   "id": "7dcc55c0-93c9-456b-9f60-8b5ff919b992",
   "metadata": {},
   "outputs": [
    {
     "data": {
      "text/plain": [
       "65"
      ]
     },
     "execution_count": 42,
     "metadata": {},
     "output_type": "execute_result"
    }
   ],
   "source": [
    "len(scaled_test)"
   ]
  },
  {
   "cell_type": "code",
   "execution_count": 43,
   "id": "97817528-4e55-4588-86bc-56062d9b83e8",
   "metadata": {},
   "outputs": [
    {
     "name": "stdout",
     "output_type": "stream",
     "text": [
      "1/1 [==============================] - 0s 235ms/step\n",
      "1/1 [==============================] - 0s 36ms/step\n",
      "1/1 [==============================] - 0s 27ms/step\n",
      "1/1 [==============================] - 0s 39ms/step\n",
      "1/1 [==============================] - 0s 28ms/step\n",
      "1/1 [==============================] - 0s 26ms/step\n",
      "1/1 [==============================] - 0s 36ms/step\n",
      "1/1 [==============================] - 0s 33ms/step\n",
      "1/1 [==============================] - 0s 24ms/step\n",
      "1/1 [==============================] - 0s 31ms/step\n",
      "1/1 [==============================] - 0s 31ms/step\n",
      "1/1 [==============================] - 0s 29ms/step\n",
      "1/1 [==============================] - 0s 33ms/step\n",
      "1/1 [==============================] - 0s 31ms/step\n",
      "1/1 [==============================] - 0s 31ms/step\n",
      "1/1 [==============================] - 0s 28ms/step\n",
      "1/1 [==============================] - 0s 28ms/step\n",
      "1/1 [==============================] - 0s 25ms/step\n",
      "1/1 [==============================] - 0s 33ms/step\n",
      "1/1 [==============================] - 0s 37ms/step\n",
      "1/1 [==============================] - 0s 55ms/step\n",
      "1/1 [==============================] - 0s 26ms/step\n",
      "1/1 [==============================] - 0s 35ms/step\n",
      "1/1 [==============================] - 0s 33ms/step\n",
      "1/1 [==============================] - 0s 26ms/step\n",
      "1/1 [==============================] - 0s 27ms/step\n",
      "1/1 [==============================] - 0s 31ms/step\n",
      "1/1 [==============================] - 0s 27ms/step\n",
      "1/1 [==============================] - 0s 25ms/step\n",
      "1/1 [==============================] - 0s 30ms/step\n",
      "1/1 [==============================] - 0s 23ms/step\n",
      "1/1 [==============================] - 0s 30ms/step\n",
      "1/1 [==============================] - 0s 31ms/step\n",
      "1/1 [==============================] - 0s 26ms/step\n",
      "1/1 [==============================] - 0s 33ms/step\n",
      "1/1 [==============================] - 0s 26ms/step\n",
      "1/1 [==============================] - 0s 38ms/step\n",
      "1/1 [==============================] - 0s 27ms/step\n",
      "1/1 [==============================] - 0s 25ms/step\n",
      "1/1 [==============================] - 0s 27ms/step\n",
      "1/1 [==============================] - 0s 35ms/step\n",
      "1/1 [==============================] - 0s 24ms/step\n",
      "1/1 [==============================] - 0s 33ms/step\n",
      "1/1 [==============================] - 0s 27ms/step\n",
      "1/1 [==============================] - 0s 27ms/step\n",
      "1/1 [==============================] - 0s 28ms/step\n",
      "1/1 [==============================] - 0s 27ms/step\n",
      "1/1 [==============================] - 0s 26ms/step\n",
      "1/1 [==============================] - 0s 28ms/step\n",
      "1/1 [==============================] - 0s 25ms/step\n",
      "1/1 [==============================] - 0s 25ms/step\n",
      "1/1 [==============================] - 0s 28ms/step\n",
      "1/1 [==============================] - 0s 24ms/step\n",
      "1/1 [==============================] - 0s 24ms/step\n",
      "1/1 [==============================] - 0s 22ms/step\n",
      "1/1 [==============================] - 0s 32ms/step\n",
      "1/1 [==============================] - 0s 24ms/step\n",
      "1/1 [==============================] - 0s 33ms/step\n",
      "1/1 [==============================] - 0s 25ms/step\n",
      "1/1 [==============================] - 0s 26ms/step\n",
      "1/1 [==============================] - 0s 24ms/step\n",
      "1/1 [==============================] - 0s 46ms/step\n",
      "1/1 [==============================] - 0s 24ms/step\n",
      "1/1 [==============================] - 0s 30ms/step\n",
      "1/1 [==============================] - 0s 29ms/step\n"
     ]
    }
   ],
   "source": [
    "# prediction loop\n",
    "for i in range(len(scaled_test)):\n",
    "\n",
    "    # predict\n",
    "    current_pred = model.predict(current_batch)[0]\n",
    "\n",
    "    # store results of prediction\n",
    "    test_predictions.append(current_pred[0])  # assume only care about price\n",
    "\n",
    "    # get new score\n",
    "    new_sentiment_score = scaled_test[i, 0]\n",
    "\n",
    "    # combine the score and predicted price together, and ensure the right dimension\n",
    "    new_input = np.array([[new_sentiment_score, current_pred[0]]]).reshape((1, 1, n_features))\n",
    "\n",
    "    # update batch for next prediction\n",
    "    current_batch = np.append(current_batch[:, 1:, :], new_input, axis=1)"
   ]
  },
  {
   "cell_type": "code",
   "execution_count": 44,
   "id": "6cc292eb-38d9-4726-9037-db3accf44f49",
   "metadata": {},
   "outputs": [
    {
     "data": {
      "text/plain": [
       "65"
      ]
     },
     "execution_count": 44,
     "metadata": {},
     "output_type": "execute_result"
    }
   ],
   "source": [
    "#see the length of predictions\n",
    "len(test_predictions)"
   ]
  },
  {
   "cell_type": "code",
   "execution_count": 45,
   "id": "38750b44-00f9-4ead-884d-b071297eca14",
   "metadata": {},
   "outputs": [
    {
     "data": {
      "text/plain": [
       "array([48.54977352, 42.22943186, 41.06976702, 40.57784303, 39.77239064,\n",
       "       39.24162808, 38.89796928, 38.51488628, 37.46229324, 37.07627472,\n",
       "       37.31796752, 37.7339885 , 38.56318104, 40.31929492, 40.45548088,\n",
       "       40.25461975, 40.50335242, 41.27994656, 42.68918805, 43.11046001,\n",
       "       42.69320872, 42.02356335, 41.64475446, 41.8345969 , 41.01400179,\n",
       "       40.25314583, 40.04086   , 40.16099775, 40.28062614, 40.12597069,\n",
       "       39.44165259, 39.71087492, 40.78153389, 41.33950362, 41.82143746,\n",
       "       41.29847755, 41.00223507, 41.37913943, 42.6415675 , 43.03350384,\n",
       "       42.4461542 , 41.68835435, 42.02342802, 42.33417345, 42.12191222,\n",
       "       42.33664884, 42.3813314 , 41.9581057 , 41.7529926 , 41.36121128,\n",
       "       41.50327077, 41.89091085, 43.13577742, 42.65490657, 41.99453039,\n",
       "       41.77681641, 42.20927193, 42.35061783, 42.7134843 , 43.56616601,\n",
       "       43.21560514, 42.57053407, 41.97800481, 41.49648681, 41.87313035])"
      ]
     },
     "execution_count": 45,
     "metadata": {},
     "output_type": "execute_result"
    }
   ],
   "source": [
    "# Make sure both the price predictions and scores are 2-dimension and combine them into one array for rescaling\n",
    "test_predictions_array = np.array(test_predictions).reshape(-1, 1)\n",
    "sentiment_scores = scaled_test[:, 0].reshape(-1, 1)\n",
    "combined_predictions = np.hstack((sentiment_scores, test_predictions_array))\n",
    "# rescale\n",
    "unscaled_predictions = scaler.inverse_transform(combined_predictions)\n",
    "unscaled_stock_prices = unscaled_predictions[:, 1]\n",
    "unscaled_stock_prices"
   ]
  },
  {
   "cell_type": "markdown",
   "id": "7fc414a5-b8f4-4535-8ff7-2979b76c5a4f",
   "metadata": {
    "jp-MarkdownHeadingCollapsed": true
   },
   "source": [
    "## </h2><font size=\"4\">\n",
    "**3.3 Evaluate the Model and Visualize the predictions**"
   ]
  },
  {
   "cell_type": "code",
   "execution_count": 46,
   "id": "be31e359-4a99-423f-835e-2370047b3bbc",
   "metadata": {},
   "outputs": [
    {
     "name": "stderr",
     "output_type": "stream",
     "text": [
      "C:\\Users\\10788\\AppData\\Local\\Temp\\ipykernel_4252\\936177275.py:3: SettingWithCopyWarning: \n",
      "A value is trying to be set on a copy of a slice from a DataFrame.\n",
      "Try using .loc[row_indexer,col_indexer] = value instead\n",
      "\n",
      "See the caveats in the documentation: https://pandas.pydata.org/pandas-docs/stable/user_guide/indexing.html#returning-a-view-versus-a-copy\n",
      "  test_add_compound['Predictions_add_compound'] = unscaled_stock_prices\n"
     ]
    }
   ],
   "source": [
    "#make two columns at the same length\n",
    "test_add_compound = test_df\n",
    "test_add_compound['Predictions_add_compound'] = unscaled_stock_prices"
   ]
  },
  {
   "cell_type": "code",
   "execution_count": 47,
   "id": "8e105346-8cb0-49d7-a9cd-eaacf6bec497",
   "metadata": {},
   "outputs": [
    {
     "data": {
      "text/plain": [
       "(9.259078026379408, 157.11235564630036, 12.534446762673667)"
      ]
     },
     "execution_count": 47,
     "metadata": {},
     "output_type": "execute_result"
    }
   ],
   "source": [
    "#Evaluate the model using MAE, MSE, MRE\n",
    "MAE = metrics.mean_absolute_error(test_add_compound['stock'],test_add_compound['Predictions_add_compound'])\n",
    "MSE = metrics.mean_squared_error(test_add_compound['stock'],test_add_compound['Predictions_add_compound'])\n",
    "MRE = np.sqrt(MSE)\n",
    "MAE,MSE,MRE"
   ]
  },
  {
   "cell_type": "code",
   "execution_count": 48,
   "id": "e5cb2bd4-5204-4a5a-a247-56e977ad79e3",
   "metadata": {},
   "outputs": [
    {
     "data": {
      "text/html": [
       "<div>\n",
       "<style scoped>\n",
       "    .dataframe tbody tr th:only-of-type {\n",
       "        vertical-align: middle;\n",
       "    }\n",
       "\n",
       "    .dataframe tbody tr th {\n",
       "        vertical-align: top;\n",
       "    }\n",
       "\n",
       "    .dataframe thead th {\n",
       "        text-align: right;\n",
       "    }\n",
       "</style>\n",
       "<table border=\"1\" class=\"dataframe\">\n",
       "  <thead>\n",
       "    <tr style=\"text-align: right;\">\n",
       "      <th></th>\n",
       "      <th>stock</th>\n",
       "      <th>Predictions</th>\n",
       "      <th>Predictions_add_compound</th>\n",
       "    </tr>\n",
       "  </thead>\n",
       "  <tbody>\n",
       "    <tr>\n",
       "      <th>count</th>\n",
       "      <td>65.000000</td>\n",
       "      <td>65.000000</td>\n",
       "      <td>65.000000</td>\n",
       "    </tr>\n",
       "    <tr>\n",
       "      <th>mean</th>\n",
       "      <td>49.161961</td>\n",
       "      <td>40.931311</td>\n",
       "      <td>41.284234</td>\n",
       "    </tr>\n",
       "    <tr>\n",
       "      <th>std</th>\n",
       "      <td>9.170583</td>\n",
       "      <td>2.852232</td>\n",
       "      <td>1.768595</td>\n",
       "    </tr>\n",
       "    <tr>\n",
       "      <th>min</th>\n",
       "      <td>36.700001</td>\n",
       "      <td>35.635252</td>\n",
       "      <td>37.076275</td>\n",
       "    </tr>\n",
       "    <tr>\n",
       "      <th>25%</th>\n",
       "      <td>41.215000</td>\n",
       "      <td>38.844463</td>\n",
       "      <td>40.280626</td>\n",
       "    </tr>\n",
       "    <tr>\n",
       "      <th>50%</th>\n",
       "      <td>47.807499</td>\n",
       "      <td>40.364930</td>\n",
       "      <td>41.644754</td>\n",
       "    </tr>\n",
       "    <tr>\n",
       "      <th>75%</th>\n",
       "      <td>53.535000</td>\n",
       "      <td>43.352251</td>\n",
       "      <td>42.334173</td>\n",
       "    </tr>\n",
       "    <tr>\n",
       "      <th>max</th>\n",
       "      <td>75.639999</td>\n",
       "      <td>48.594390</td>\n",
       "      <td>48.549774</td>\n",
       "    </tr>\n",
       "  </tbody>\n",
       "</table>\n",
       "</div>"
      ],
      "text/plain": [
       "           stock  Predictions  Predictions_add_compound\n",
       "count  65.000000    65.000000                 65.000000\n",
       "mean   49.161961    40.931311                 41.284234\n",
       "std     9.170583     2.852232                  1.768595\n",
       "min    36.700001    35.635252                 37.076275\n",
       "25%    41.215000    38.844463                 40.280626\n",
       "50%    47.807499    40.364930                 41.644754\n",
       "75%    53.535000    43.352251                 42.334173\n",
       "max    75.639999    48.594390                 48.549774"
      ]
     },
     "execution_count": 48,
     "metadata": {},
     "output_type": "execute_result"
    }
   ],
   "source": [
    "test_add_compound.describe()"
   ]
  },
  {
   "cell_type": "code",
   "execution_count": 49,
   "id": "eb8c4b0e-b47b-422f-ad85-b848f54a1920",
   "metadata": {},
   "outputs": [
    {
     "data": {
      "text/plain": [
       "<Figure size 1500x700 with 0 Axes>"
      ]
     },
     "metadata": {},
     "output_type": "display_data"
    },
    {
     "data": {
      "image/png": "[encoded data removed]",
      "text/plain": [
       "<Figure size 1000x600 with 1 Axes>"
      ]
     },
     "metadata": {},
     "output_type": "display_data"
    }
   ],
   "source": [
    "# Plot the time-series data\n",
    "# Setting the plot size for better readability\n",
    "plt.figure(figsize=(15, 7))\n",
    "\n",
    "# Plotting \n",
    "test_add_compound.plot(figsize=(10,6))\n",
    "\n",
    "# Adding title and labels with font size adjustments\n",
    "plt.title('Actual Closing Prices vs Predicted Closing Prices with Sentiment Scores', fontsize=16)\n",
    "plt.xlabel('Date', fontsize=14)\n",
    "plt.ylabel('Closing Price', fontsize=20)\n",
    "\n",
    "#Set the date format\n",
    "plt.gca().xaxis.set_major_formatter(mdates.DateFormatter('%Y-%m-%d')) \n",
    "\n",
    "#Set the x-axis interval to be one month\n",
    "plt.gca().xaxis.set_major_locator(mdates.DayLocator(interval=5)) \n",
    "\n",
    "# Rotating date labels for better visibility\n",
    "plt.xticks(rotation=45)\n",
    "\n",
    "# Adding a legend to distinguish the actual values\n",
    "plt.legend()\n",
    "\n",
    "# Display the plot\n",
    "plt.tight_layout()\n",
    "plt.show()"
   ]
  },
  {
   "cell_type": "markdown",
   "id": "eb1b19cd-9309-4c3e-9aaf-28138f990207",
   "metadata": {
    "jp-MarkdownHeadingCollapsed": true
   },
   "source": [
    "## </h2><font size=\"4\">\n",
    "**3.4 Conclusion**"
   ]
  },
  {
   "cell_type": "markdown",
   "id": "8db7609d-381c-4eaa-becd-356b4bcea825",
   "metadata": {},
   "source": [
    "1. Real-world stock price higher than the predictions: Everyday excludes 8-19. Real-world stock price lower than the predictions: 8-19\n",
    "2. The data in the first 20 days of June has a significant difference and even converse between real data and predictions. That indicates that my model does not fit the actual data, and the variance is high. The first reason might be due to the model itself lack of accuracy, another reason might be because there are other factors beyond historical data and sentiment score that I did not capture.\n",
    "3. The data from 6-24 to 7-24 seems to predict the trend better than the predictions without sentiment score. That gives the proof that adding sentiment score really influences the stock price.\n",
    "4. See MRE, it is around 14.45, and for this case, the real-world data's sd is 9.17, and the prediction is 3.4, greater than both sd, so it means that my model does not predict the actual data well and the variance is large. Since the stock market is very changeable and many factors influence it, it is hard to predict the data very accurately."
   ]
  },
  {
   "cell_type": "markdown",
   "id": "34ea7a10-60ab-455f-884e-6af7cf6630ea",
   "metadata": {
    "jp-MarkdownHeadingCollapsed": true
   },
   "source": [
    "# </h1><font size=\"6\">\n",
    "**Section 4. Short Squeeze and Model Adaptation**"
   ]
  },
  {
   "cell_type": "markdown",
   "id": "4f74cdf9-c57a-4588-9b85-2191cfa71dc8",
   "metadata": {
    "jp-MarkdownHeadingCollapsed": true
   },
   "source": [
    "## </h2><font size=\"4\">\n",
    "**4.1 Event Analysis**"
   ]
  },
  {
   "cell_type": "markdown",
   "id": "4a186cf5-8a21-4506-a1eb-987f78000730",
   "metadata": {},
   "source": [
    "Objective: In this part, I did volume estimate, topic modeling Using embedding and VADER score to do sentiment analysis."
   ]
  },
  {
   "cell_type": "markdown",
   "id": "fe0d9ff3-440d-4f08-93e2-03477b5d1966",
   "metadata": {
    "jp-MarkdownHeadingCollapsed": true
   },
   "source": [
    "### </h3><font size=\"3\">\n",
    "**4.1.1 Load Data**"
   ]
  },
  {
   "cell_type": "markdown",
   "id": "7f371afd-eed1-4374-b979-48f0acc8c80b",
   "metadata": {},
   "source": [
    "In this section, I have 3 datasets: Harvard case of whole reddit comments in 2021, reddit API in WallStreetBets about GameStop, Webscraped CNBC news headline related to gamestop."
   ]
  },
  {
   "cell_type": "code",
   "execution_count": 50,
   "id": "34315c28-f66c-4404-a5c0-73f7913c5123",
   "metadata": {},
   "outputs": [
    {
     "name": "stderr",
     "output_type": "stream",
     "text": [
      "C:\\Users\\10788\\AppData\\Local\\Temp\\ipykernel_4252\\3528037558.py:2: DtypeWarning: Columns (8) have mixed types. Specify dtype option on import or set low_memory=False.\n",
      "  rGME = pd.read_csv('rGME_dataset_features.csv')\n"
     ]
    }
   ],
   "source": [
    "#Read the file\n",
    "rGME = pd.read_csv('rGME_dataset_features.csv')"
   ]
  },
  {
   "cell_type": "markdown",
   "id": "e9d149d5-6d79-4587-bcdd-baaf984d4072",
   "metadata": {},
   "source": [
    "Load the first dataset from Harvard case of whole reddit comments in 2021"
   ]
  },
  {
   "cell_type": "code",
   "execution_count": 51,
   "id": "22171243-d12b-4d0b-9f91-6d65179b2ce7",
   "metadata": {},
   "outputs": [
    {
     "name": "stderr",
     "output_type": "stream",
     "text": [
      "C:\\Users\\10788\\AppData\\Local\\Temp\\ipykernel_4252\\1811388808.py:4: SettingWithCopyWarning: \n",
      "A value is trying to be set on a copy of a slice from a DataFrame.\n",
      "Try using .loc[row_indexer,col_indexer] = value instead\n",
      "\n",
      "See the caveats in the documentation: https://pandas.pydata.org/pandas-docs/stable/user_guide/indexing.html#returning-a-view-versus-a-copy\n",
      "  rgme['date'] = pd.to_datetime(rgme['date'])\n",
      "C:\\Users\\10788\\AppData\\Local\\Temp\\ipykernel_4252\\1811388808.py:8: SettingWithCopyWarning: \n",
      "A value is trying to be set on a copy of a slice from a DataFrame.\n",
      "Try using .loc[row_indexer,col_indexer] = value instead\n",
      "\n",
      "See the caveats in the documentation: https://pandas.pydata.org/pandas-docs/stable/user_guide/indexing.html#returning-a-view-versus-a-copy\n",
      "  rgme1_2['date'] = rgme1_2['date'].dt.date\n"
     ]
    }
   ],
   "source": [
    "# Get columns we need\n",
    "rgme = rGME[['date','title']]\n",
    "#change time format\n",
    "rgme['date'] = pd.to_datetime(rgme['date'])\n",
    "# Get rows in the range of January_May and June_August\n",
    "rgme1_2 = rgme[(rgme['date'].dt.month >= 1) & (rgme['date'].dt.month <= 2)]\n",
    "#change the time format\n",
    "rgme1_2['date'] = rgme1_2['date'].dt.date\n",
    "#reset index \n",
    "rgme1_2.set_index('date', inplace=True)"
   ]
  },
  {
   "cell_type": "markdown",
   "id": "d8689ff4-051d-4e31-b69a-70e63dcb4931",
   "metadata": {},
   "source": [
    "Load reddit API in WallStreetBets about GameStop"
   ]
  },
  {
   "cell_type": "code",
   "execution_count": 52,
   "id": "2f56011c-719d-4338-bcd3-af8a2df21f00",
   "metadata": {},
   "outputs": [],
   "source": [
    "WallStreetBets = pd.read_csv('gamestop_WallStreetBets.csv')\n",
    "#change time format\n",
    "WallStreetBets['time'] = pd.to_datetime(WallStreetBets['time'])\n",
    "# Get rows in the range of January_May and June_August\n",
    "WallStreetBets = WallStreetBets[(WallStreetBets['time'].dt.month >= 1) & (WallStreetBets['time'].dt.month <= 2)]\n",
    "#change the time format\n",
    "WallStreetBets['date'] = WallStreetBets['time'].dt.date\n",
    "#drop unneeded column, reset index and column name\n",
    "WallStreetBets = WallStreetBets.drop('time',axis=1)\n",
    "WallStreetBets.set_index('date', inplace=True)\n",
    "WallStreetBets.columns = ['title']"
   ]
  },
  {
   "cell_type": "markdown",
   "id": "928de1cb-ebda-45a2-b8a3-6ef21c284c9f",
   "metadata": {},
   "source": [
    "Load CNBC news data"
   ]
  },
  {
   "cell_type": "code",
   "execution_count": 53,
   "id": "51c22054-5d0c-41e8-bac3-878f91b045b6",
   "metadata": {},
   "outputs": [],
   "source": [
    "cnbc = pd.read_csv('gamestop_cnbc.csv')\n",
    "#change time format\n",
    "cnbc['time'] = pd.to_datetime(cnbc['time'])\n",
    "# Get rows in the range of January_May and June_August\n",
    "cnbc = cnbc[(cnbc['time'].dt.month >= 1) & (cnbc['time'].dt.month <= 2)]\n",
    "#change the time format\n",
    "cnbc['date'] = cnbc['time'].dt.date\n",
    "#drop unneeded column, reset index and column name\n",
    "cnbc = cnbc.drop('time',axis=1)\n",
    "cnbc.set_index('date', inplace=True)\n",
    "cnbc.columns = ['title']"
   ]
  },
  {
   "cell_type": "markdown",
   "id": "3ee94265-76cf-4536-824f-544a5da2ce8b",
   "metadata": {},
   "source": [
    "Check three datasets"
   ]
  },
  {
   "cell_type": "code",
   "execution_count": 54,
   "id": "b0909906-93c2-44b8-9dd1-7d1024decaf7",
   "metadata": {},
   "outputs": [
    {
     "data": {
      "text/html": [
       "<div>\n",
       "<style scoped>\n",
       "    .dataframe tbody tr th:only-of-type {\n",
       "        vertical-align: middle;\n",
       "    }\n",
       "\n",
       "    .dataframe tbody tr th {\n",
       "        vertical-align: top;\n",
       "    }\n",
       "\n",
       "    .dataframe thead th {\n",
       "        text-align: right;\n",
       "    }\n",
       "</style>\n",
       "<table border=\"1\" class=\"dataframe\">\n",
       "  <thead>\n",
       "    <tr style=\"text-align: right;\">\n",
       "      <th></th>\n",
       "      <th>title</th>\n",
       "    </tr>\n",
       "    <tr>\n",
       "      <th>date</th>\n",
       "      <th></th>\n",
       "    </tr>\n",
       "  </thead>\n",
       "  <tbody>\n",
       "    <tr>\n",
       "      <th>2021-01-04</th>\n",
       "      <td>You NEED to see this about GME 🚀🚀🚀🚀🚀🚀</td>\n",
       "    </tr>\n",
       "    <tr>\n",
       "      <th>2021-01-04</th>\n",
       "      <td>Short Squeeze Incoming 🚀🚀🚀🚀🚀🚀🚀</td>\n",
       "    </tr>\n",
       "    <tr>\n",
       "      <th>2021-01-05</th>\n",
       "      <td>THIS CONVINCED ME TO ALL IN 💰GME (EXTREME PUMP...</td>\n",
       "    </tr>\n",
       "    <tr>\n",
       "      <th>2021-01-05</th>\n",
       "      <td>You already know what we must do brothers and ...</td>\n",
       "    </tr>\n",
       "    <tr>\n",
       "      <th>2021-01-06</th>\n",
       "      <td>ICR conference (11th Jan)</td>\n",
       "    </tr>\n",
       "  </tbody>\n",
       "</table>\n",
       "</div>"
      ],
      "text/plain": [
       "                                                        title\n",
       "date                                                         \n",
       "2021-01-04              You NEED to see this about GME 🚀🚀🚀🚀🚀🚀\n",
       "2021-01-04                     Short Squeeze Incoming 🚀🚀🚀🚀🚀🚀🚀\n",
       "2021-01-05  THIS CONVINCED ME TO ALL IN 💰GME (EXTREME PUMP...\n",
       "2021-01-05  You already know what we must do brothers and ...\n",
       "2021-01-06                          ICR conference (11th Jan)"
      ]
     },
     "execution_count": 54,
     "metadata": {},
     "output_type": "execute_result"
    }
   ],
   "source": [
    "rgme1_2.head()"
   ]
  },
  {
   "cell_type": "code",
   "execution_count": 55,
   "id": "99ddceb9-9192-4a63-aaa0-0a88a480451a",
   "metadata": {},
   "outputs": [
    {
     "data": {
      "text/html": [
       "<div>\n",
       "<style scoped>\n",
       "    .dataframe tbody tr th:only-of-type {\n",
       "        vertical-align: middle;\n",
       "    }\n",
       "\n",
       "    .dataframe tbody tr th {\n",
       "        vertical-align: top;\n",
       "    }\n",
       "\n",
       "    .dataframe thead th {\n",
       "        text-align: right;\n",
       "    }\n",
       "</style>\n",
       "<table border=\"1\" class=\"dataframe\">\n",
       "  <thead>\n",
       "    <tr style=\"text-align: right;\">\n",
       "      <th></th>\n",
       "      <th>title</th>\n",
       "    </tr>\n",
       "    <tr>\n",
       "      <th>date</th>\n",
       "      <th></th>\n",
       "    </tr>\n",
       "  </thead>\n",
       "  <tbody>\n",
       "    <tr>\n",
       "      <th>2021-01-28</th>\n",
       "      <td>What's the next Gamestop?</td>\n",
       "    </tr>\n",
       "    <tr>\n",
       "      <th>2021-01-29</th>\n",
       "      <td>GameStop Update 3: Can't Stop, Won't Stop, Gam...</td>\n",
       "    </tr>\n",
       "    <tr>\n",
       "      <th>2021-01-30</th>\n",
       "      <td>BREAKING: SEC issues ruling on GameStop stock ...</td>\n",
       "    </tr>\n",
       "    <tr>\n",
       "      <th>2021-01-30</th>\n",
       "      <td>GameStop covered in Taiwan news featuring DFV 🚀🚀🚀</td>\n",
       "    </tr>\n",
       "    <tr>\n",
       "      <th>2021-01-29</th>\n",
       "      <td>Soon we'll all be able to buy our own GameStop...</td>\n",
       "    </tr>\n",
       "  </tbody>\n",
       "</table>\n",
       "</div>"
      ],
      "text/plain": [
       "                                                        title\n",
       "date                                                         \n",
       "2021-01-28                          What's the next Gamestop?\n",
       "2021-01-29  GameStop Update 3: Can't Stop, Won't Stop, Gam...\n",
       "2021-01-30  BREAKING: SEC issues ruling on GameStop stock ...\n",
       "2021-01-30  GameStop covered in Taiwan news featuring DFV 🚀🚀🚀\n",
       "2021-01-29  Soon we'll all be able to buy our own GameStop..."
      ]
     },
     "execution_count": 55,
     "metadata": {},
     "output_type": "execute_result"
    }
   ],
   "source": [
    "WallStreetBets.head()"
   ]
  },
  {
   "cell_type": "code",
   "execution_count": 56,
   "id": "739bfed2-bdda-4322-942b-cb97522d4fad",
   "metadata": {},
   "outputs": [
    {
     "data": {
      "text/html": [
       "<div>\n",
       "<style scoped>\n",
       "    .dataframe tbody tr th:only-of-type {\n",
       "        vertical-align: middle;\n",
       "    }\n",
       "\n",
       "    .dataframe tbody tr th {\n",
       "        vertical-align: top;\n",
       "    }\n",
       "\n",
       "    .dataframe thead th {\n",
       "        text-align: right;\n",
       "    }\n",
       "</style>\n",
       "<table border=\"1\" class=\"dataframe\">\n",
       "  <thead>\n",
       "    <tr style=\"text-align: right;\">\n",
       "      <th></th>\n",
       "      <th>title</th>\n",
       "    </tr>\n",
       "    <tr>\n",
       "      <th>date</th>\n",
       "      <th></th>\n",
       "    </tr>\n",
       "  </thead>\n",
       "  <tbody>\n",
       "    <tr>\n",
       "      <th>2021-02-18</th>\n",
       "      <td>Interactive Brokers chair says financial syste...</td>\n",
       "    </tr>\n",
       "    <tr>\n",
       "      <th>2021-01-29</th>\n",
       "      <td>This is how Wall Street thinks the Reddit-fuel...</td>\n",
       "    </tr>\n",
       "    <tr>\n",
       "      <th>2021-01-28</th>\n",
       "      <td>Beware these ETFs containing a GameStop bubble...</td>\n",
       "    </tr>\n",
       "    <tr>\n",
       "      <th>2021-01-29</th>\n",
       "      <td>Op-ed: Gamestop's costly financial lesson for ...</td>\n",
       "    </tr>\n",
       "    <tr>\n",
       "      <th>2021-02-17</th>\n",
       "      <td>'Roaring Kitty' Keith Gill defends GameStop po...</td>\n",
       "    </tr>\n",
       "  </tbody>\n",
       "</table>\n",
       "</div>"
      ],
      "text/plain": [
       "                                                        title\n",
       "date                                                         \n",
       "2021-02-18  Interactive Brokers chair says financial syste...\n",
       "2021-01-29  This is how Wall Street thinks the Reddit-fuel...\n",
       "2021-01-28  Beware these ETFs containing a GameStop bubble...\n",
       "2021-01-29  Op-ed: Gamestop's costly financial lesson for ...\n",
       "2021-02-17  'Roaring Kitty' Keith Gill defends GameStop po..."
      ]
     },
     "execution_count": 56,
     "metadata": {},
     "output_type": "execute_result"
    }
   ],
   "source": [
    "cnbc.head()"
   ]
  },
  {
   "cell_type": "markdown",
   "id": "43e7209a-50f1-4075-bb39-3023f8a3fd6e",
   "metadata": {},
   "source": [
    "combine 3 dataframes into one dataframe"
   ]
  },
  {
   "cell_type": "code",
   "execution_count": 57,
   "id": "28fa9021-fc63-412e-a213-db6f683c21ab",
   "metadata": {},
   "outputs": [],
   "source": [
    "# combine 3 dataframes into one dataframe\n",
    "reviews = pd.concat([rgme1_2, WallStreetBets, cnbc], axis=0)\n",
    "# set another copy of reviews for modeling\n",
    "reviews_topic = reviews"
   ]
  },
  {
   "cell_type": "markdown",
   "id": "51848cc9-aa85-4dc5-8133-7c1a819c1055",
   "metadata": {
    "jp-MarkdownHeadingCollapsed": true
   },
   "source": [
    "### </h3><font size=\"3\">\n",
    "**4.1.2 Volume Estimate**"
   ]
  },
  {
   "cell_type": "code",
   "execution_count": 58,
   "id": "70acc4cd-dc75-4c84-8fe2-83c7960f928d",
   "metadata": {},
   "outputs": [],
   "source": [
    "# Group the data by date\n",
    "count_reviews = reviews.groupby(reviews.index).count()"
   ]
  },
  {
   "cell_type": "code",
   "execution_count": 59,
   "id": "10eeab47-6e1a-462b-bd3a-1edb000bca20",
   "metadata": {},
   "outputs": [
    {
     "data": {
      "image/png": "[encoded data removed]",
      "text/plain": [
       "<Figure size 2000x1000 with 1 Axes>"
      ]
     },
     "metadata": {},
     "output_type": "display_data"
    }
   ],
   "source": [
    "#Visualize the amount of daily reviews\n",
    "# Setting the plot size for better readability\n",
    "fig, ax = plt.subplots(figsize = (20,10))\n",
    "\n",
    "# Plotting the actual closing prices in the training period\n",
    "ax.plot(count_reviews.title, label='Count', color='blue', marker='o')\n",
    "\n",
    "# Adding title and labels with font size adjustments\n",
    "plt.title('Count of titles during January and February', fontsize=16)\n",
    "plt.xlabel('Date', fontsize=14)\n",
    "plt.ylabel('Count of titles', fontsize=14)\n",
    "\n",
    "# Rotating date labels for better visibility\n",
    "plt.xticks(rotation=45)\n",
    "\n",
    "#Set the date format\n",
    "plt.gca().xaxis.set_major_formatter(mdates.DateFormatter('%Y-%m-%d')) \n",
    "\n",
    "#Set the x-axis interval to be one month\n",
    "plt.gca().xaxis.set_major_locator(mdates.DayLocator(interval=1)) \n",
    "# Adding a legend to distinguish the actual values\n",
    "plt.legend()\n",
    "\n",
    "# Display the plot\n",
    "plt.tight_layout()\n",
    "plt.show()"
   ]
  },
  {
   "cell_type": "markdown",
   "id": "161086f5-a660-46c3-a265-de72b42a0f62",
   "metadata": {},
   "source": [
    "Conclusion:  \n",
    "1. It seems that the amount of reviews about GameStop has been gradually increasing since late January, and there is an overall increase trend of review volume along with five seasonalities.\n",
    "2. The volume at around 2-20 is at the peak, with over 5k reviews on the GameStop, it might due to the spread of the success of the company and the increase amount of press on GameStop.\n"
   ]
  },
  {
   "cell_type": "markdown",
   "id": "3f9794d1-a499-4ba9-b36f-c3c0090f1098",
   "metadata": {
    "jp-MarkdownHeadingCollapsed": true
   },
   "source": [
    "### </h3><font size=\"3\">\n",
    "**4.1.3  Topic modeling: Key Themes Estimate**"
   ]
  },
  {
   "cell_type": "markdown",
   "id": "b50e57d3-9efc-43c3-82c3-54186ce3389d",
   "metadata": {},
   "source": [
    "In this part, I use embedding and let the model unsupervised create 8 topics for me with  10 top occurrence words each."
   ]
  },
  {
   "cell_type": "code",
   "execution_count": 60,
   "id": "b538df82-96d4-4167-8dda-186f2e398efd",
   "metadata": {},
   "outputs": [],
   "source": [
    "#linguistic processing\n",
    "from nltk.corpus import stopwords\n",
    "from nltk.stem import PorterStemmer\n",
    "import string\n",
    "\n",
    "def text_process(mess):\n",
    "    #create a stemmer object\n",
    "    stemmer = PorterStemmer()\n",
    "    #remove puc\n",
    "    nopunc = [char for char in mess if char not in string.punctuation]\n",
    "    #remove stop words and stemming\n",
    "    nopunc=''.join(nopunc)\n",
    "    return ' '.join(stemmer.stem(word) for word in nopunc.split() if word.lower() not in stopwords.words('english'))"
   ]
  },
  {
   "cell_type": "code",
   "execution_count": 61,
   "id": "a4d811eb-63f3-4433-bf77-26164514b9f7",
   "metadata": {},
   "outputs": [],
   "source": [
    "reviews_processed = reviews['title'].apply(text_process)"
   ]
  },
  {
   "cell_type": "code",
   "execution_count": 62,
   "id": "d87c797e-0ef7-467a-822c-905fe0fb8556",
   "metadata": {},
   "outputs": [],
   "source": [
    "# change to dataframe\n",
    "reviews_processed = pd.DataFrame(reviews_processed, columns=['title'])"
   ]
  },
  {
   "cell_type": "code",
   "execution_count": 63,
   "id": "c1bd1802-b4c3-4390-8a26-c09dd5f692ae",
   "metadata": {},
   "outputs": [
    {
     "data": {
      "text/html": [
       "<div>\n",
       "<style scoped>\n",
       "    .dataframe tbody tr th:only-of-type {\n",
       "        vertical-align: middle;\n",
       "    }\n",
       "\n",
       "    .dataframe tbody tr th {\n",
       "        vertical-align: top;\n",
       "    }\n",
       "\n",
       "    .dataframe thead th {\n",
       "        text-align: right;\n",
       "    }\n",
       "</style>\n",
       "<table border=\"1\" class=\"dataframe\">\n",
       "  <thead>\n",
       "    <tr style=\"text-align: right;\">\n",
       "      <th></th>\n",
       "      <th>title</th>\n",
       "    </tr>\n",
       "    <tr>\n",
       "      <th>date</th>\n",
       "      <th></th>\n",
       "    </tr>\n",
       "  </thead>\n",
       "  <tbody>\n",
       "    <tr>\n",
       "      <th>2021-01-04</th>\n",
       "      <td>need see gme 🚀🚀🚀🚀🚀🚀</td>\n",
       "    </tr>\n",
       "    <tr>\n",
       "      <th>2021-01-04</th>\n",
       "      <td>short squeez incom 🚀🚀🚀🚀🚀🚀🚀</td>\n",
       "    </tr>\n",
       "    <tr>\n",
       "      <th>2021-01-05</th>\n",
       "      <td>convinc 💰gme extrem pump come</td>\n",
       "    </tr>\n",
       "    <tr>\n",
       "      <th>2021-01-05</th>\n",
       "      <td>alreadi know must brother sister submit compla...</td>\n",
       "    </tr>\n",
       "    <tr>\n",
       "      <th>2021-01-06</th>\n",
       "      <td>icr confer 11th jan</td>\n",
       "    </tr>\n",
       "    <tr>\n",
       "      <th>...</th>\n",
       "      <td>...</td>\n",
       "    </tr>\n",
       "    <tr>\n",
       "      <th>2021-02-02</th>\n",
       "      <td>stay cours stock market even amid gamestop tra...</td>\n",
       "    </tr>\n",
       "    <tr>\n",
       "      <th>2021-02-04</th>\n",
       "      <td>fed mester doesnt see polici chang come gamest...</td>\n",
       "    </tr>\n",
       "    <tr>\n",
       "      <th>2021-02-05</th>\n",
       "      <td>robinhood lift trade restrict gamestop stock</td>\n",
       "    </tr>\n",
       "    <tr>\n",
       "      <th>2021-02-05</th>\n",
       "      <td>gamestop share climb 19 friday finish week 80</td>\n",
       "    </tr>\n",
       "    <tr>\n",
       "      <th>2021-02-18</th>\n",
       "      <td>reddit ceo defend platform role gamestop surg</td>\n",
       "    </tr>\n",
       "  </tbody>\n",
       "</table>\n",
       "<p>45469 rows × 1 columns</p>\n",
       "</div>"
      ],
      "text/plain": [
       "                                                        title\n",
       "date                                                         \n",
       "2021-01-04                                need see gme 🚀🚀🚀🚀🚀🚀\n",
       "2021-01-04                         short squeez incom 🚀🚀🚀🚀🚀🚀🚀\n",
       "2021-01-05                      convinc 💰gme extrem pump come\n",
       "2021-01-05  alreadi know must brother sister submit compla...\n",
       "2021-01-06                                icr confer 11th jan\n",
       "...                                                       ...\n",
       "2021-02-02  stay cours stock market even amid gamestop tra...\n",
       "2021-02-04  fed mester doesnt see polici chang come gamest...\n",
       "2021-02-05       robinhood lift trade restrict gamestop stock\n",
       "2021-02-05      gamestop share climb 19 friday finish week 80\n",
       "2021-02-18      reddit ceo defend platform role gamestop surg\n",
       "\n",
       "[45469 rows x 1 columns]"
      ]
     },
     "execution_count": 63,
     "metadata": {},
     "output_type": "execute_result"
    }
   ],
   "source": [
    "reviews_processed"
   ]
  },
  {
   "cell_type": "code",
   "execution_count": 64,
   "id": "6b7343b2-cf42-4d80-a4c7-828288241cbc",
   "metadata": {},
   "outputs": [],
   "source": [
    "reviews_processed = reviews_processed.reset_index()"
   ]
  },
  {
   "cell_type": "code",
   "execution_count": 65,
   "id": "72ddb1c5-f608-4102-bbad-a5a94d63379b",
   "metadata": {},
   "outputs": [
    {
     "data": {
      "text/plain": [
       "array(['01', '10', '100', ..., 'youv', 'zero', 'zoom'], dtype=object)"
      ]
     },
     "execution_count": 65,
     "metadata": {},
     "output_type": "execute_result"
    }
   ],
   "source": [
    "# Code reference: Udemy course NLP - Natural Language Processing with Python\n",
    "# https://www.udemy.com/course/nlp-natural-language-processing-with-python/learn/lecture/13067612#overview\n",
    "# Create a vectorizer, set indicators\n",
    "cv = CountVectorizer(max_df = 0.7, min_df = 10, stop_words = 'english')\n",
    "# Train the cv\n",
    "matrix = cv.fit_transform(reviews_processed['title'])\n",
    "LDA = LatentDirichletAllocation(n_components = 8,random_state=101)\n",
    "LDA.fit(matrix)\n",
    "#Get the words vocabulary\n",
    "cv.get_feature_names_out()"
   ]
  },
  {
   "cell_type": "code",
   "execution_count": 66,
   "id": "c005b503-224c-43fb-8211-3fe41b97a874",
   "metadata": {},
   "outputs": [
    {
     "data": {
      "text/plain": [
       "array([[1.25040346e-01, 1.25107201e-01, 1.11882231e+01, ...,\n",
       "        1.25154268e-01, 4.45222851e+01, 1.25013638e-01],\n",
       "       [1.25038466e-01, 1.75436460e-01, 1.34244701e+00, ...,\n",
       "        1.25082264e-01, 1.64462003e-01, 9.06814670e+00],\n",
       "       [1.20556113e+01, 1.95560158e+02, 3.77776807e+02, ...,\n",
       "        1.08213284e+00, 2.47196540e+00, 1.25007008e-01],\n",
       "       ...,\n",
       "       [1.25038276e-01, 1.25067549e-01, 1.25106156e-01, ...,\n",
       "        6.83030028e+00, 1.01572142e+01, 1.71813895e+01],\n",
       "       [1.25153226e-01, 1.77637496e+00, 3.89530514e+00, ...,\n",
       "        1.25027771e-01, 1.25181419e-01, 1.25026975e-01],\n",
       "       [1.93997207e-01, 2.39528832e+00, 2.39265188e+01, ...,\n",
       "        5.89358378e+00, 1.27315364e-01, 1.25147303e-01]])"
      ]
     },
     "execution_count": 66,
     "metadata": {},
     "output_type": "execute_result"
    }
   ],
   "source": [
    "# Get the topic array\n",
    "LDA.components_"
   ]
  },
  {
   "cell_type": "code",
   "execution_count": 67,
   "id": "03951c97-cc9d-49bc-974a-6092fb3e5523",
   "metadata": {},
   "outputs": [
    {
     "name": "stdout",
     "output_type": "stream",
     "text": [
      "Top10 words for topic #0\n",
      "['fuck', 'new', 'wait', 'love', 'gamestop', 'happen', 'robinhood', 'fund', 'hedg', 'stop']\n",
      "\n",
      "\n",
      "Top10 words for topic #1\n",
      "['support', 'togeth', 'ape', 'way', 'strong', 'buy', 'line', 'gamestop', 'gme', 'hold']\n",
      "\n",
      "\n",
      "Top10 words for topic #2\n",
      "['price', 'today', 'amc', 'bought', 'fuck', 'dip', 'share', 'sell', 'buy', 'gme']\n",
      "\n",
      "\n",
      "Top10 words for topic #3\n",
      "['moon', 'time', 'know', 'right', 'look', 'let', 'volum', 'gme', 'today', 'hear']\n",
      "\n",
      "\n",
      "Top10 words for topic #4\n",
      "['trade', 'feel', 'open', 'question', 'dfv', 'dont', 'gme', 'market', 'stock', 'like']\n",
      "\n",
      "\n",
      "Top10 words for topic #5\n",
      "['pleas', 'game', 'thank', 'fellow', 'els', 'anyon', 'melvin', 'help', 'retard', 'ape']\n",
      "\n",
      "\n",
      "Top10 words for topic #6\n",
      "['posit', 'order', 'cover', 'option', 'gamestop', 'post', 'wsb', 'gme', 'squeez', 'short']\n",
      "\n",
      "\n",
      "Top10 words for topic #7\n",
      "['meme', 'im', 'good', 'need', 'hodl', 'dd', 'day', 'diamond', 'hand', 'gme']\n",
      "\n",
      "\n"
     ]
    }
   ],
   "source": [
    "# Loop topic to print words for each topic\n",
    "for i, topic in enumerate(LDA.components_):\n",
    "    print(f\"Top10 words for topic #{i}\")\n",
    "    print([cv.get_feature_names_out() [index] for index in topic.argsort()[-10:]])\n",
    "    print('\\n')"
   ]
  },
  {
   "cell_type": "markdown",
   "id": "650fca2c-2093-4f0a-a5a0-9779bd49039a",
   "metadata": {},
   "source": [
    "Conclusion:  \n",
    "After carefully viewing 8 topics and their top 10 words, I summarized the useful information as follows:  \n",
    "1. Positive review and expectations: Topic including #0(new, wait, love, happen), #1(support, strong, buy), #3(right), #4(open, like), #7(good, need, diamond)\n",
    "2. Stock market concern: Topic including #0(hedge, fund), #2(price, sell, buy), #4(trade, market, stock)\n",
    "3. So overall, apart from common words people use on social media, it showed us a positive vision about Gamestop especially its market performance and stock."
   ]
  },
  {
   "cell_type": "markdown",
   "id": "012eeb54-9494-41e5-8207-499ac72ccf6b",
   "metadata": {
    "jp-MarkdownHeadingCollapsed": true
   },
   "source": [
    "### </h3><font size=\"3\">\n",
    "**4.1.4  VADER: Sentiment analysis**"
   ]
  },
  {
   "cell_type": "code",
   "execution_count": 68,
   "id": "82a5a35e-bee5-485d-9d2b-2f54528cfd77",
   "metadata": {},
   "outputs": [
    {
     "name": "stderr",
     "output_type": "stream",
     "text": [
      "[nltk_data] Downloading package vader_lexicon to\n",
      "[nltk_data]     C:\\Users\\10788\\AppData\\Roaming\\nltk_data...\n",
      "[nltk_data]   Package vader_lexicon is already up-to-date!\n"
     ]
    }
   ],
   "source": [
    "# Load the SentimentIntensityAnalyzer\n",
    "nltk.download('vader_lexicon')\n",
    "from nltk.sentiment.vader import SentimentIntensityAnalyzer"
   ]
  },
  {
   "cell_type": "code",
   "execution_count": 69,
   "id": "3893bf3f-d3a3-4b5e-8ac5-eec7a15706ab",
   "metadata": {},
   "outputs": [],
   "source": [
    "# Set the list to store data and load model\n",
    "sid = SentimentIntensityAnalyzer()\n",
    "scores = []"
   ]
  },
  {
   "cell_type": "code",
   "execution_count": 70,
   "id": "a88943f8-6386-4f37-8f65-174e62dcba97",
   "metadata": {},
   "outputs": [],
   "source": [
    "# Analyze in loop\n",
    "for title in reviews['title']:\n",
    "    score = sid.polarity_scores(title)\n",
    "    scores.append(score)"
   ]
  },
  {
   "cell_type": "code",
   "execution_count": 71,
   "id": "fa3a2478-de2b-4d71-a985-ea84a59873de",
   "metadata": {},
   "outputs": [
    {
     "data": {
      "text/html": [
       "<div>\n",
       "<style scoped>\n",
       "    .dataframe tbody tr th:only-of-type {\n",
       "        vertical-align: middle;\n",
       "    }\n",
       "\n",
       "    .dataframe tbody tr th {\n",
       "        vertical-align: top;\n",
       "    }\n",
       "\n",
       "    .dataframe thead th {\n",
       "        text-align: right;\n",
       "    }\n",
       "</style>\n",
       "<table border=\"1\" class=\"dataframe\">\n",
       "  <thead>\n",
       "    <tr style=\"text-align: right;\">\n",
       "      <th></th>\n",
       "      <th>title</th>\n",
       "      <th>compound</th>\n",
       "    </tr>\n",
       "    <tr>\n",
       "      <th>date</th>\n",
       "      <th></th>\n",
       "      <th></th>\n",
       "    </tr>\n",
       "  </thead>\n",
       "  <tbody>\n",
       "    <tr>\n",
       "      <th>2021-01-04</th>\n",
       "      <td>You NEED to see this about GME 🚀🚀🚀🚀🚀🚀</td>\n",
       "      <td>0.0000</td>\n",
       "    </tr>\n",
       "    <tr>\n",
       "      <th>2021-01-04</th>\n",
       "      <td>Short Squeeze Incoming 🚀🚀🚀🚀🚀🚀🚀</td>\n",
       "      <td>0.0000</td>\n",
       "    </tr>\n",
       "    <tr>\n",
       "      <th>2021-01-05</th>\n",
       "      <td>THIS CONVINCED ME TO ALL IN 💰GME (EXTREME PUMP...</td>\n",
       "      <td>0.4019</td>\n",
       "    </tr>\n",
       "    <tr>\n",
       "      <th>2021-01-05</th>\n",
       "      <td>You already know what we must do brothers and ...</td>\n",
       "      <td>-0.2960</td>\n",
       "    </tr>\n",
       "    <tr>\n",
       "      <th>2021-01-06</th>\n",
       "      <td>ICR conference (11th Jan)</td>\n",
       "      <td>0.0000</td>\n",
       "    </tr>\n",
       "  </tbody>\n",
       "</table>\n",
       "</div>"
      ],
      "text/plain": [
       "                                                        title  compound\n",
       "date                                                                   \n",
       "2021-01-04              You NEED to see this about GME 🚀🚀🚀🚀🚀🚀    0.0000\n",
       "2021-01-04                     Short Squeeze Incoming 🚀🚀🚀🚀🚀🚀🚀    0.0000\n",
       "2021-01-05  THIS CONVINCED ME TO ALL IN 💰GME (EXTREME PUMP...    0.4019\n",
       "2021-01-05  You already know what we must do brothers and ...   -0.2960\n",
       "2021-01-06                          ICR conference (11th Jan)    0.0000"
      ]
     },
     "execution_count": 71,
     "metadata": {},
     "output_type": "execute_result"
    }
   ],
   "source": [
    "# change to dataframe and check te value\n",
    "scores = pd.DataFrame(scores)\n",
    "reviews['compound'] = scores['compound'].values\n",
    "reviews.head()"
   ]
  },
  {
   "cell_type": "code",
   "execution_count": 72,
   "id": "f98f0cd8-ca06-462c-a6d3-e3b1a9480d81",
   "metadata": {},
   "outputs": [],
   "source": [
    "# Group the compound by day\n",
    "reviews = reviews.groupby('date').mean('compound')"
   ]
  },
  {
   "cell_type": "markdown",
   "id": "b0cf8e7a-3584-4528-b6b4-f76ac3b6348e",
   "metadata": {},
   "source": [
    "Visualize the daily sentiment score"
   ]
  },
  {
   "cell_type": "code",
   "execution_count": 73,
   "id": "7650a430-4314-4524-a855-51537d1f5250",
   "metadata": {},
   "outputs": [
    {
     "data": {
      "image/png": "[encoded data removed]",
      "text/plain": [
       "<Figure size 2000x1000 with 1 Axes>"
      ]
     },
     "metadata": {},
     "output_type": "display_data"
    }
   ],
   "source": [
    "# Setting the plot size for better readability\n",
    "fig, ax1 = plt.subplots(figsize = (20,10))\n",
    "\n",
    "# Plotting the actual closing prices in the training period\n",
    "ax1.plot(reviews['compound'], label='Sentiment Score', color='red', marker='o')\n",
    "# Adding title and labels with font size adjustments\n",
    "plt.title('Daily sentiment score during January and February', fontsize=26)\n",
    "plt.xlabel('Date', fontsize=24)\n",
    "plt.ylabel('Daily sentiment score', fontsize=24)\n",
    "\n",
    "# Rotating date labels for better visibility\n",
    "plt.xticks(rotation=45)\n",
    "\n",
    "#Set the date format\n",
    "plt.gca().xaxis.set_major_formatter(mdates.DateFormatter('%Y-%m-%d')) \n",
    "\n",
    "#Set the x-axis interval to be one month\n",
    "plt.gca().xaxis.set_major_locator(mdates.DayLocator(interval=1)) \n",
    "# Adding a legend to distinguish the actual values\n",
    "plt.legend()\n",
    "\n",
    "# Display the plot\n",
    "plt.tight_layout()\n",
    "plt.show()"
   ]
  },
  {
   "cell_type": "markdown",
   "id": "39e9b906-a4e9-4de0-a4c6-934cc06a11cc",
   "metadata": {},
   "source": [
    "Conclusion:  \n",
    "1. Almost every day's sentiment score is higher than 0, meaning the daily score is positive during January and February.\n",
    "2. It shows that at the start of January, the mean sentiment score was higher than the days later. And during the start of February, there are some high score days.\n",
    "3. These positive sentiment scores might influence people's positive expectations of GameStop's stock price in the future."
   ]
  },
  {
   "cell_type": "markdown",
   "id": "3cceb49f-acec-47d9-be83-25f880b9a429",
   "metadata": {
    "jp-MarkdownHeadingCollapsed": true
   },
   "source": [
    "## </h2><font size=\"4\">\n",
    "**4.2 Model Sensitivity**"
   ]
  },
  {
   "cell_type": "markdown",
   "id": "b5d043c8-9e6a-4842-9cdf-68466335c4b5",
   "metadata": {},
   "source": [
    "##\n",
    "Section 4 Sensitivity test"
   ]
  },
  {
   "cell_type": "markdown",
   "id": "1384741f-2a4e-4990-8520-345313998891",
   "metadata": {},
   "source": [
    "In this section, to test how my model would change based on the sudden great change of sentiment scores. Since I detected most dates in January and February , the sentiment score is positive, so I would love to simulate some extreme negative sentiment scores for June, July and August. Then I will use the same model as section 3 to see how predicted stock price would change and deviate from the actual stock price."
   ]
  },
  {
   "cell_type": "code",
   "execution_count": 74,
   "id": "d69c9f2a-e988-46ab-8425-bb577e7e5574",
   "metadata": {},
   "outputs": [
    {
     "data": {
      "text/plain": [
       "65"
      ]
     },
     "execution_count": 74,
     "metadata": {},
     "output_type": "execute_result"
    }
   ],
   "source": [
    "len(values_test)"
   ]
  },
  {
   "cell_type": "code",
   "execution_count": 75,
   "id": "6d7faca3-6396-46ce-8f7a-43168ca37a30",
   "metadata": {},
   "outputs": [],
   "source": [
    "#simulate extreme negative sentiment scores for the period needed to be predicted.\n",
    "np.random.seed(101)\n",
    "score_simulated = np.random_numbers = np.random.uniform(-0.9, -0.6, 65)\n",
    "#score_simulated = pd.DataFrame(score_simulated, columns=['Random Numbers'])"
   ]
  },
  {
   "cell_type": "code",
   "execution_count": 76,
   "id": "b827282e-cc79-4fcc-96ff-edaf944988b1",
   "metadata": {},
   "outputs": [
    {
     "data": {
      "text/plain": [
       "array([-0.74508041, -0.72879972, -0.89145773, -0.8485435 , -0.69441691,\n",
       "       -0.64983094, -0.80791013, -0.63191608, -0.68353684, -0.84301831,\n",
       "       -0.73373172, -0.79436041, -0.84543228, -0.66431947, -0.61035503,\n",
       "       -0.8302939 , -0.87493157, -0.71893547, -0.68130217, -0.81712835,\n",
       "       -0.6944081 , -0.74463976, -0.88545464, -0.85863923, -0.84390977,\n",
       "       -0.60170463, -0.74380038, -0.72636314, -0.67955428, -0.73741147,\n",
       "       -0.62605393, -0.65762395, -0.77910065, -0.7928327 , -0.61413699,\n",
       "       -0.79691053, -0.64047006, -0.65091669, -0.73855157, -0.62325919,\n",
       "       -0.87085606, -0.86914575, -0.68954781, -0.63285604, -0.85213191,\n",
       "       -0.81732824, -0.69825254, -0.85070906, -0.68958866, -0.75370943,\n",
       "       -0.69579667, -0.74353554, -0.88698099, -0.83281902, -0.72743847,\n",
       "       -0.8638699 , -0.74996499, -0.85859713, -0.88415748, -0.84651692,\n",
       "       -0.76728956, -0.6367238 , -0.61522076, -0.75654977, -0.7616642 ])"
      ]
     },
     "execution_count": 76,
     "metadata": {},
     "output_type": "execute_result"
    }
   ],
   "source": [
    "score_simulated"
   ]
  },
  {
   "cell_type": "markdown",
   "id": "2d54e24f-e3d6-496d-97ff-1c8943861453",
   "metadata": {},
   "source": [
    "##\n",
    "4.2 predict the data using simulated score"
   ]
  },
  {
   "cell_type": "code",
   "execution_count": 77,
   "id": "310e1157-d08a-4286-9ed4-6feaad0ec7a4",
   "metadata": {},
   "outputs": [],
   "source": [
    "# Reference: Udemy course: Python for Time Series Data Analysis,https://www.udemy.com/course/python-for-time-series-data-analysis/learn/lecture/14522130#overview\n",
    "# Guided by chatgpt\n",
    "# Create a list to store predicted data\n",
    "simulated_predictions = []\n",
    "# Get the last input_n points from the training data\n",
    "first_eval_batch = scaled[-input_n:]\n",
    "# reshape the data format\n",
    "current_batch = first_eval_batch.reshape((1, input_n, n_features))"
   ]
  },
  {
   "cell_type": "code",
   "execution_count": 78,
   "id": "739daa3c-fff1-4f71-8d38-0c8a22b962c0",
   "metadata": {},
   "outputs": [
    {
     "name": "stdout",
     "output_type": "stream",
     "text": [
      "1/1 [==============================] - 0s 29ms/step\n",
      "1/1 [==============================] - 0s 31ms/step\n",
      "1/1 [==============================] - 0s 28ms/step\n",
      "1/1 [==============================] - 0s 25ms/step\n",
      "1/1 [==============================] - 0s 30ms/step\n",
      "1/1 [==============================] - 0s 30ms/step\n",
      "1/1 [==============================] - 0s 30ms/step\n",
      "1/1 [==============================] - 0s 100ms/step\n",
      "1/1 [==============================] - 0s 26ms/step\n",
      "1/1 [==============================] - 0s 26ms/step\n",
      "1/1 [==============================] - 0s 30ms/step\n",
      "1/1 [==============================] - 0s 27ms/step\n",
      "1/1 [==============================] - 0s 27ms/step\n",
      "1/1 [==============================] - 0s 33ms/step\n",
      "1/1 [==============================] - 0s 29ms/step\n",
      "1/1 [==============================] - 0s 30ms/step\n",
      "1/1 [==============================] - 0s 24ms/step\n",
      "1/1 [==============================] - 0s 30ms/step\n",
      "1/1 [==============================] - 0s 29ms/step\n",
      "1/1 [==============================] - 0s 29ms/step\n",
      "1/1 [==============================] - 0s 24ms/step\n",
      "1/1 [==============================] - 0s 24ms/step\n",
      "1/1 [==============================] - 0s 26ms/step\n",
      "1/1 [==============================] - 0s 22ms/step\n",
      "1/1 [==============================] - 0s 25ms/step\n",
      "1/1 [==============================] - 0s 69ms/step\n",
      "1/1 [==============================] - 0s 28ms/step\n",
      "1/1 [==============================] - 0s 34ms/step\n",
      "1/1 [==============================] - 0s 30ms/step\n",
      "1/1 [==============================] - 0s 30ms/step\n",
      "1/1 [==============================] - 0s 29ms/step\n",
      "1/1 [==============================] - 0s 30ms/step\n",
      "1/1 [==============================] - 0s 29ms/step\n",
      "1/1 [==============================] - 0s 39ms/step\n",
      "1/1 [==============================] - 0s 31ms/step\n",
      "1/1 [==============================] - 0s 28ms/step\n",
      "1/1 [==============================] - 0s 27ms/step\n",
      "1/1 [==============================] - 0s 30ms/step\n",
      "1/1 [==============================] - 0s 28ms/step\n",
      "1/1 [==============================] - 0s 32ms/step\n",
      "1/1 [==============================] - 0s 44ms/step\n",
      "1/1 [==============================] - 0s 31ms/step\n",
      "1/1 [==============================] - 0s 24ms/step\n",
      "1/1 [==============================] - 0s 29ms/step\n",
      "1/1 [==============================] - 0s 30ms/step\n",
      "1/1 [==============================] - 0s 32ms/step\n",
      "1/1 [==============================] - 0s 29ms/step\n",
      "1/1 [==============================] - 0s 25ms/step\n",
      "1/1 [==============================] - 0s 30ms/step\n",
      "1/1 [==============================] - 0s 28ms/step\n",
      "1/1 [==============================] - 0s 25ms/step\n",
      "1/1 [==============================] - 0s 26ms/step\n",
      "1/1 [==============================] - 0s 25ms/step\n",
      "1/1 [==============================] - 0s 24ms/step\n",
      "1/1 [==============================] - 0s 29ms/step\n",
      "1/1 [==============================] - 0s 33ms/step\n",
      "1/1 [==============================] - 0s 37ms/step\n",
      "1/1 [==============================] - 0s 30ms/step\n",
      "1/1 [==============================] - 0s 28ms/step\n",
      "1/1 [==============================] - 0s 31ms/step\n",
      "1/1 [==============================] - 0s 49ms/step\n",
      "1/1 [==============================] - 0s 24ms/step\n",
      "1/1 [==============================] - 0s 25ms/step\n",
      "1/1 [==============================] - 0s 28ms/step\n",
      "1/1 [==============================] - 0s 27ms/step\n"
     ]
    }
   ],
   "source": [
    "# prediction loop\n",
    "for i in range(len(values_test)):\n",
    "\n",
    "    # predict\n",
    "    current_pred = model.predict(current_batch)[0]\n",
    "\n",
    "    # store results of prediction\n",
    "    simulated_predictions.append(current_pred[0])  # assume only care about price\n",
    "\n",
    "    # get new score\n",
    "    new_sentiment_score = score_simulated[i]\n",
    "\n",
    "    # combine the score and predicted price together, and ensure the right dimension\n",
    "    new_input = np.array([[new_sentiment_score, current_pred[0]]]).reshape((1, 1, n_features))\n",
    "\n",
    "    # update batch for next prediction\n",
    "    current_batch = np.append(current_batch[:, 1:, :], new_input, axis=1)"
   ]
  },
  {
   "cell_type": "code",
   "execution_count": 79,
   "id": "4e0984a1-3a6d-4d31-9513-8e90d990de24",
   "metadata": {},
   "outputs": [
    {
     "data": {
      "text/plain": [
       "65"
      ]
     },
     "execution_count": 79,
     "metadata": {},
     "output_type": "execute_result"
    }
   ],
   "source": [
    "len(simulated_predictions)"
   ]
  },
  {
   "cell_type": "code",
   "execution_count": 80,
   "id": "ee6fd82d-6052-47a5-ba90-806448ac3ce5",
   "metadata": {},
   "outputs": [
    {
     "data": {
      "text/plain": [
       "array([ 48.54977352,  61.56690845,  95.86094331, 137.34618066,\n",
       "       147.66770163,  91.69047273,  43.65637512,  48.11743612,\n",
       "        49.32493558,  56.32825429,  69.52576316,  75.26234031,\n",
       "        78.22508013,  71.50496995,  56.94330323,  45.62017345,\n",
       "        36.22966338,  26.17615902,  15.05683821,  15.32992617,\n",
       "        24.03530245,  33.44841955,  44.11937196,  56.67507993,\n",
       "        68.04544886,  73.49272496,  67.11933707,  50.4436211 ,\n",
       "        45.30916966,  51.61131743,  62.91506729,  72.67176076,\n",
       "        82.12101343,  90.69435113,  88.55116311,  70.89134817,\n",
       "        55.84381061,  48.49838083,  47.45210669,  51.95809877,\n",
       "        56.3677277 ,  60.3741137 ,  69.57830742,  71.08458136,\n",
       "        59.22733764,  49.76622475,  46.45921835,  42.35644214,\n",
       "        42.4740971 ,  47.12696412,  51.87549546,  59.25909452,\n",
       "        66.72824964,  72.05887718,  73.78368448,  66.41805293,\n",
       "        54.96884545,  48.62506384,  50.61232673,  61.86171146,\n",
       "        71.688774  ,  77.74316105,  74.28640079,  59.59379417,\n",
       "        49.66203188])"
      ]
     },
     "execution_count": 80,
     "metadata": {},
     "output_type": "execute_result"
    }
   ],
   "source": [
    "# Make sure both the price predictions and scores are 2-dimension and combine them into one array for rescaling\n",
    "simulated_predictions_array = np.array(simulated_predictions).reshape(-1, 1)\n",
    "sentiment_scores = scaled_test[:, 0].reshape(-1, 1)\n",
    "combined_predictions = np.hstack((sentiment_scores, simulated_predictions_array))\n",
    "# rescale\n",
    "unscaled_predictions = scaler.inverse_transform(combined_predictions)\n",
    "unscaled_stock_prices = unscaled_predictions[:, 1]\n",
    "unscaled_stock_prices"
   ]
  },
  {
   "cell_type": "markdown",
   "id": "89ce5fe1-e72a-4be2-8e1f-4d9f3af02efe",
   "metadata": {},
   "source": [
    "##\n",
    "4.3 Visualize the findings"
   ]
  },
  {
   "cell_type": "code",
   "execution_count": 81,
   "id": "18e1f26e-914c-41e8-9c3b-7996b80694a0",
   "metadata": {},
   "outputs": [
    {
     "name": "stderr",
     "output_type": "stream",
     "text": [
      "C:\\Users\\10788\\AppData\\Local\\Temp\\ipykernel_4252\\2949804420.py:3: SettingWithCopyWarning: \n",
      "A value is trying to be set on a copy of a slice from a DataFrame.\n",
      "Try using .loc[row_indexer,col_indexer] = value instead\n",
      "\n",
      "See the caveats in the documentation: https://pandas.pydata.org/pandas-docs/stable/user_guide/indexing.html#returning-a-view-versus-a-copy\n",
      "  extreme_negative_price['Predictions_extreme_negative_score'] = unscaled_stock_prices\n"
     ]
    }
   ],
   "source": [
    "#make two columns at the same length\n",
    "extreme_negative_price = test_df[['stock']]\n",
    "extreme_negative_price['Predictions_extreme_negative_score'] = unscaled_stock_prices\n",
    "# make the simulated score scaled to be larger to detect\n",
    "extreme_negative_price['Sentiment Score(*100)'] = score_simulated*100"
   ]
  },
  {
   "cell_type": "code",
   "execution_count": 82,
   "id": "ac32274b-1082-4e6b-867d-017b156dda20",
   "metadata": {},
   "outputs": [
    {
     "data": {
      "text/html": [
       "<div>\n",
       "<style scoped>\n",
       "    .dataframe tbody tr th:only-of-type {\n",
       "        vertical-align: middle;\n",
       "    }\n",
       "\n",
       "    .dataframe tbody tr th {\n",
       "        vertical-align: top;\n",
       "    }\n",
       "\n",
       "    .dataframe thead th {\n",
       "        text-align: right;\n",
       "    }\n",
       "</style>\n",
       "<table border=\"1\" class=\"dataframe\">\n",
       "  <thead>\n",
       "    <tr style=\"text-align: right;\">\n",
       "      <th></th>\n",
       "      <th>stock</th>\n",
       "      <th>Predictions_extreme_negative_score</th>\n",
       "      <th>Sentiment Score(*100)</th>\n",
       "    </tr>\n",
       "    <tr>\n",
       "      <th>Date</th>\n",
       "      <th></th>\n",
       "      <th></th>\n",
       "      <th></th>\n",
       "    </tr>\n",
       "  </thead>\n",
       "  <tbody>\n",
       "    <tr>\n",
       "      <th>2021-06-01</th>\n",
       "      <td>62.255001</td>\n",
       "      <td>48.549774</td>\n",
       "      <td>-74.508041</td>\n",
       "    </tr>\n",
       "    <tr>\n",
       "      <th>2021-06-02</th>\n",
       "      <td>70.559998</td>\n",
       "      <td>61.566908</td>\n",
       "      <td>-72.879972</td>\n",
       "    </tr>\n",
       "    <tr>\n",
       "      <th>2021-06-03</th>\n",
       "      <td>64.544998</td>\n",
       "      <td>95.860943</td>\n",
       "      <td>-89.145773</td>\n",
       "    </tr>\n",
       "    <tr>\n",
       "      <th>2021-06-04</th>\n",
       "      <td>62.090000</td>\n",
       "      <td>137.346181</td>\n",
       "      <td>-84.854350</td>\n",
       "    </tr>\n",
       "    <tr>\n",
       "      <th>2021-06-07</th>\n",
       "      <td>70.002502</td>\n",
       "      <td>147.667702</td>\n",
       "      <td>-69.441691</td>\n",
       "    </tr>\n",
       "    <tr>\n",
       "      <th>...</th>\n",
       "      <td>...</td>\n",
       "      <td>...</td>\n",
       "      <td>...</td>\n",
       "    </tr>\n",
       "    <tr>\n",
       "      <th>2021-08-25</th>\n",
       "      <td>49.912498</td>\n",
       "      <td>71.688774</td>\n",
       "      <td>-76.728956</td>\n",
       "    </tr>\n",
       "    <tr>\n",
       "      <th>2021-08-26</th>\n",
       "      <td>51.305000</td>\n",
       "      <td>77.743161</td>\n",
       "      <td>-63.672380</td>\n",
       "    </tr>\n",
       "    <tr>\n",
       "      <th>2021-08-27</th>\n",
       "      <td>51.237499</td>\n",
       "      <td>74.286401</td>\n",
       "      <td>-61.522076</td>\n",
       "    </tr>\n",
       "    <tr>\n",
       "      <th>2021-08-30</th>\n",
       "      <td>52.299999</td>\n",
       "      <td>59.593794</td>\n",
       "      <td>-75.654977</td>\n",
       "    </tr>\n",
       "    <tr>\n",
       "      <th>2021-08-31</th>\n",
       "      <td>54.560001</td>\n",
       "      <td>49.662032</td>\n",
       "      <td>-76.166420</td>\n",
       "    </tr>\n",
       "  </tbody>\n",
       "</table>\n",
       "<p>65 rows × 3 columns</p>\n",
       "</div>"
      ],
      "text/plain": [
       "                stock  Predictions_extreme_negative_score  \\\n",
       "Date                                                        \n",
       "2021-06-01  62.255001                           48.549774   \n",
       "2021-06-02  70.559998                           61.566908   \n",
       "2021-06-03  64.544998                           95.860943   \n",
       "2021-06-04  62.090000                          137.346181   \n",
       "2021-06-07  70.002502                          147.667702   \n",
       "...               ...                                 ...   \n",
       "2021-08-25  49.912498                           71.688774   \n",
       "2021-08-26  51.305000                           77.743161   \n",
       "2021-08-27  51.237499                           74.286401   \n",
       "2021-08-30  52.299999                           59.593794   \n",
       "2021-08-31  54.560001                           49.662032   \n",
       "\n",
       "            Sentiment Score(*100)  \n",
       "Date                               \n",
       "2021-06-01             -74.508041  \n",
       "2021-06-02             -72.879972  \n",
       "2021-06-03             -89.145773  \n",
       "2021-06-04             -84.854350  \n",
       "2021-06-07             -69.441691  \n",
       "...                           ...  \n",
       "2021-08-25             -76.728956  \n",
       "2021-08-26             -63.672380  \n",
       "2021-08-27             -61.522076  \n",
       "2021-08-30             -75.654977  \n",
       "2021-08-31             -76.166420  \n",
       "\n",
       "[65 rows x 3 columns]"
      ]
     },
     "execution_count": 82,
     "metadata": {},
     "output_type": "execute_result"
    }
   ],
   "source": [
    "extreme_negative_price"
   ]
  },
  {
   "cell_type": "code",
   "execution_count": 83,
   "id": "d972531c-80b5-46a4-8ce7-85aec79dd393",
   "metadata": {},
   "outputs": [
    {
     "data": {
      "text/plain": [
       "<Figure size 1500x700 with 0 Axes>"
      ]
     },
     "metadata": {},
     "output_type": "display_data"
    },
    {
     "data": {
      "image/png": "[encoded data removed]",
      "text/plain": [
       "<Figure size 1000x600 with 1 Axes>"
      ]
     },
     "metadata": {},
     "output_type": "display_data"
    }
   ],
   "source": [
    "# Plot the time-series data\n",
    "# Setting the plot size for better readability\n",
    "plt.figure(figsize=(15, 7))\n",
    "\n",
    "# Plotting \n",
    "extreme_negative_price.plot(figsize=(10,6))\n",
    "\n",
    "# Adding title and labels with font size adjustments\n",
    "plt.title('Actual Closing Prices vs Predicted Closing Prices with Sentiment Scores', fontsize=16)\n",
    "plt.xlabel('Date', fontsize=14)\n",
    "plt.ylabel('Closing Price', fontsize=20)\n",
    "\n",
    "#Set the date format\n",
    "plt.gca().xaxis.set_major_formatter(mdates.DateFormatter('%Y-%m-%d')) \n",
    "\n",
    "#Set the x-axis interval to be one month\n",
    "plt.gca().xaxis.set_major_locator(mdates.DayLocator(interval=5)) \n",
    "\n",
    "# Rotating date labels for better visibility\n",
    "plt.xticks(rotation=45)\n",
    "\n",
    "# Adding a legend to distinguish the actual values\n",
    "plt.legend()\n",
    "\n",
    "# Display the plot\n",
    "plt.tight_layout()\n",
    "plt.show()"
   ]
  },
  {
   "cell_type": "markdown",
   "id": "fb085dd9-6d4e-4896-818f-221d9a717f4a",
   "metadata": {},
   "source": [
    "Conclusion:  \n",
    "1. When I simulated the extreme negative scores for June to August, it seemed that there would be more fluctuations than the actual price. The highest and the lowest price would be very extreme.\n",
    "2. Why extreme might occur: there are many reasons and uncertainties since it is a stock market. The reputation of the company, opinion leaders comments on the company's operation, spread of some products' negative reviews, anecdotes of high executives of the company, etc. Even a small event could cause extreme negative sentiment on the company's stock price and attraction. Accumulated negative reviews on social media and in the industries could quickly spread and then influence the expectations on the company's stock market which might cause the decrease or fluctuation of the stock price.\n",
    "3. Algorithmic analysis: Although the sentiment score is extremely negative for every day, the predicted price is sometimes higher than the actual. That might be due to the good performance of previous historical data. Because I use both the historical data and sentiment score to train the model and make predictions. Even if the sentiment score might decrease the price, the historical data if good will drag the price up as well.\n",
    "4. Adjustment suggestions: If I want my model's predictions to perform better, I might do as follows：(a) adding features that also influence the price, such as the cash flow of big shareholders' decisions, microeconomic index(unemployment rate, inflation rate, etc), GameStop's promotion activities, competitors, etc. It depends on the situation. (b)Stack two different models rather than train two features in the same model. (c)Manually set some weights to punish outliers or larger the price since we know the trend of the future but the model does not. (d) Do better feature engineering such as using more related and crucial datasets rather than the whole dataset.\n",
    " "
   ]
  },
  {
   "cell_type": "markdown",
   "id": "47b9e151-ec7b-477c-bfa7-68e8a33e2e57",
   "metadata": {},
   "source": [
    "# </h1><font size=\"6\">\n",
    "**Section 5. Conclusion and Future Directions**"
   ]
  },
  {
   "cell_type": "markdown",
   "id": "894814a0-33ca-42ab-8a69-de7c29e3a017",
   "metadata": {},
   "source": [
    "## </h2><font size=\"4\">\n",
    "**Please see details in the word document in the file.**"
   ]
  },
  {
   "cell_type": "markdown",
   "id": "c069a356-fd7a-4fda-812d-14f99b4bf8d4",
   "metadata": {},
   "source": [
    "# </h1><font size=\"6\">\n",
    "**Thank You For Watching!**"
   ]
  },
  {
   "cell_type": "markdown",
   "id": "9f1515ed-3bcb-4972-9349-e9c17e2454a7",
   "metadata": {},
   "source": [
    "## </h2><font size=\"4\">\n",
    "If you have any questions or suggestions on my work, feel free to contact me at jingyuch@andrew.cmu.edu! I am more than happy to discuss with you!"
   ]
  }
 ],
 "metadata": {
  "kernelspec": {
   "display_name": "Python 3 (ipykernel)",
   "language": "python",
   "name": "python3"
  },
  "language_info": {
   "codemirror_mode": {
    "name": "ipython",
    "version": 3
   },
   "file_extension": ".py",
   "mimetype": "text/x-python",
   "name": "python",
   "nbconvert_exporter": "python",
   "pygments_lexer": "ipython3",
   "version": "3.11.2"
  }
 },
 "nbformat": 4,
 "nbformat_minor": 5
}
